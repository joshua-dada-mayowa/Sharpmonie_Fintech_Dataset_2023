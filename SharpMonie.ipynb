{
  "cells": [
    {
      "cell_type": "code",
      "execution_count": 2,
      "metadata": {
        "id": "POOonLilo85u"
      },
      "outputs": [],
      "source": [
        "from mimesis import Generic\n",
        "import random\n",
        "import pandas as pd\n",
        "from faker import Faker\n",
        "import numpy as np\n",
        "from datetime import datetime, timedelta\n"
      ]
    },
    {
      "cell_type": "code",
      "execution_count": 3,
      "metadata": {
        "id": "YylNNNyMpNXB"
      },
      "outputs": [],
      "source": [
        "fake = Generic()\n",
        "random.seed(30)"
      ]
    },
    {
      "cell_type": "code",
      "execution_count": 4,
      "metadata": {
        "colab": {
          "base_uri": "https://localhost:8080/",
          "height": 424
        },
        "id": "GZWRqrm1xW-0",
        "outputId": "3930034e-e0c5-4b75-d27a-37e5485d8e17"
      },
      "outputs": [
        {
          "data": {
            "text/html": [
              "<div>\n",
              "<style scoped>\n",
              "    .dataframe tbody tr th:only-of-type {\n",
              "        vertical-align: middle;\n",
              "    }\n",
              "\n",
              "    .dataframe tbody tr th {\n",
              "        vertical-align: top;\n",
              "    }\n",
              "\n",
              "    .dataframe thead th {\n",
              "        text-align: right;\n",
              "    }\n",
              "</style>\n",
              "<table border=\"1\" class=\"dataframe\">\n",
              "  <thead>\n",
              "    <tr style=\"text-align: right;\">\n",
              "      <th></th>\n",
              "      <th>city</th>\n",
              "      <th>lat</th>\n",
              "      <th>lng</th>\n",
              "      <th>country</th>\n",
              "      <th>iso2</th>\n",
              "      <th>admin_name</th>\n",
              "      <th>capital</th>\n",
              "      <th>population</th>\n",
              "      <th>population_proper</th>\n",
              "    </tr>\n",
              "  </thead>\n",
              "  <tbody>\n",
              "    <tr>\n",
              "      <th>0</th>\n",
              "      <td>Lagos</td>\n",
              "      <td>6.4550</td>\n",
              "      <td>3.3841</td>\n",
              "      <td>Nigeria</td>\n",
              "      <td>NG</td>\n",
              "      <td>Lagos</td>\n",
              "      <td>minor</td>\n",
              "      <td>16637000.0</td>\n",
              "      <td>16637000.0</td>\n",
              "    </tr>\n",
              "    <tr>\n",
              "      <th>1</th>\n",
              "      <td>Kano</td>\n",
              "      <td>12.0000</td>\n",
              "      <td>8.5167</td>\n",
              "      <td>Nigeria</td>\n",
              "      <td>NG</td>\n",
              "      <td>Kano</td>\n",
              "      <td>admin</td>\n",
              "      <td>3848885.0</td>\n",
              "      <td>3848885.0</td>\n",
              "    </tr>\n",
              "    <tr>\n",
              "      <th>2</th>\n",
              "      <td>Abuja</td>\n",
              "      <td>9.0667</td>\n",
              "      <td>7.4833</td>\n",
              "      <td>Nigeria</td>\n",
              "      <td>NG</td>\n",
              "      <td>Federal Capital Territory</td>\n",
              "      <td>primary</td>\n",
              "      <td>3770000.0</td>\n",
              "      <td>107169.0</td>\n",
              "    </tr>\n",
              "    <tr>\n",
              "      <th>3</th>\n",
              "      <td>Ibadan</td>\n",
              "      <td>7.3964</td>\n",
              "      <td>3.9167</td>\n",
              "      <td>Nigeria</td>\n",
              "      <td>NG</td>\n",
              "      <td>Oyo</td>\n",
              "      <td>admin</td>\n",
              "      <td>3552000.0</td>\n",
              "      <td>2550593.0</td>\n",
              "    </tr>\n",
              "    <tr>\n",
              "      <th>4</th>\n",
              "      <td>Port Harcourt</td>\n",
              "      <td>4.8242</td>\n",
              "      <td>7.0336</td>\n",
              "      <td>Nigeria</td>\n",
              "      <td>NG</td>\n",
              "      <td>Rivers</td>\n",
              "      <td>admin</td>\n",
              "      <td>1865000.0</td>\n",
              "      <td>1005904.0</td>\n",
              "    </tr>\n",
              "    <tr>\n",
              "      <th>...</th>\n",
              "      <td>...</td>\n",
              "      <td>...</td>\n",
              "      <td>...</td>\n",
              "      <td>...</td>\n",
              "      <td>...</td>\n",
              "      <td>...</td>\n",
              "      <td>...</td>\n",
              "      <td>...</td>\n",
              "      <td>...</td>\n",
              "    </tr>\n",
              "    <tr>\n",
              "      <th>56</th>\n",
              "      <td>Nchia</td>\n",
              "      <td>4.7931</td>\n",
              "      <td>7.1206</td>\n",
              "      <td>Nigeria</td>\n",
              "      <td>NG</td>\n",
              "      <td>Rivers</td>\n",
              "      <td>minor</td>\n",
              "      <td>NaN</td>\n",
              "      <td>NaN</td>\n",
              "    </tr>\n",
              "    <tr>\n",
              "      <th>57</th>\n",
              "      <td>Egbeda</td>\n",
              "      <td>7.3772</td>\n",
              "      <td>4.0498</td>\n",
              "      <td>Nigeria</td>\n",
              "      <td>NG</td>\n",
              "      <td>Oyo</td>\n",
              "      <td>minor</td>\n",
              "      <td>NaN</td>\n",
              "      <td>NaN</td>\n",
              "    </tr>\n",
              "    <tr>\n",
              "      <th>58</th>\n",
              "      <td>Ukpo</td>\n",
              "      <td>6.2141</td>\n",
              "      <td>6.9666</td>\n",
              "      <td>Nigeria</td>\n",
              "      <td>NG</td>\n",
              "      <td>Anambra</td>\n",
              "      <td>minor</td>\n",
              "      <td>NaN</td>\n",
              "      <td>NaN</td>\n",
              "    </tr>\n",
              "    <tr>\n",
              "      <th>59</th>\n",
              "      <td>Abagana</td>\n",
              "      <td>6.1833</td>\n",
              "      <td>6.9833</td>\n",
              "      <td>Nigeria</td>\n",
              "      <td>NG</td>\n",
              "      <td>Anambra</td>\n",
              "      <td>minor</td>\n",
              "      <td>NaN</td>\n",
              "      <td>NaN</td>\n",
              "    </tr>\n",
              "    <tr>\n",
              "      <th>60</th>\n",
              "      <td>Suleja</td>\n",
              "      <td>9.1806</td>\n",
              "      <td>7.1794</td>\n",
              "      <td>Nigeria</td>\n",
              "      <td>NG</td>\n",
              "      <td>Niger</td>\n",
              "      <td>minor</td>\n",
              "      <td>NaN</td>\n",
              "      <td>NaN</td>\n",
              "    </tr>\n",
              "  </tbody>\n",
              "</table>\n",
              "<p>61 rows × 9 columns</p>\n",
              "</div>"
            ],
            "text/plain": [
              "             city      lat     lng  country iso2                 admin_name  \\\n",
              "0           Lagos   6.4550  3.3841  Nigeria   NG                      Lagos   \n",
              "1            Kano  12.0000  8.5167  Nigeria   NG                       Kano   \n",
              "2           Abuja   9.0667  7.4833  Nigeria   NG  Federal Capital Territory   \n",
              "3          Ibadan   7.3964  3.9167  Nigeria   NG                        Oyo   \n",
              "4   Port Harcourt   4.8242  7.0336  Nigeria   NG                     Rivers   \n",
              "..            ...      ...     ...      ...  ...                        ...   \n",
              "56          Nchia   4.7931  7.1206  Nigeria   NG                     Rivers   \n",
              "57         Egbeda   7.3772  4.0498  Nigeria   NG                        Oyo   \n",
              "58           Ukpo   6.2141  6.9666  Nigeria   NG                    Anambra   \n",
              "59        Abagana   6.1833  6.9833  Nigeria   NG                    Anambra   \n",
              "60         Suleja   9.1806  7.1794  Nigeria   NG                      Niger   \n",
              "\n",
              "    capital  population  population_proper  \n",
              "0     minor  16637000.0         16637000.0  \n",
              "1     admin   3848885.0          3848885.0  \n",
              "2   primary   3770000.0           107169.0  \n",
              "3     admin   3552000.0          2550593.0  \n",
              "4     admin   1865000.0          1005904.0  \n",
              "..      ...         ...                ...  \n",
              "56    minor         NaN                NaN  \n",
              "57    minor         NaN                NaN  \n",
              "58    minor         NaN                NaN  \n",
              "59    minor         NaN                NaN  \n",
              "60    minor         NaN                NaN  \n",
              "\n",
              "[61 rows x 9 columns]"
            ]
          },
          "execution_count": 4,
          "metadata": {},
          "output_type": "execute_result"
        }
      ],
      "source": [
        "nigeria_location_data=pd.read_csv(\"ng.csv\")\n",
        "\n",
        "nigeria_location_data"
      ]
    },
    {
      "cell_type": "code",
      "execution_count": 5,
      "metadata": {
        "id": "NgwsAbGtoSfO"
      },
      "outputs": [],
      "source": [
        "# List of Nigerian states\n",
        "nigerian_states = nigeria_location_data['admin_name']\n",
        "\n",
        "nigerian_cities= nigeria_location_data['city']"
      ]
    },
    {
      "cell_type": "code",
      "execution_count": 6,
      "metadata": {
        "colab": {
          "base_uri": "https://localhost:8080/"
        },
        "id": "WxaTpdfvyx6l",
        "outputId": "507f1279-cb42-49ff-9cdb-769b515f24bb"
      },
      "outputs": [
        {
          "data": {
            "text/plain": [
              "0                         Lagos,Lagos\n",
              "1                           Kano,Kano\n",
              "2     Abuja,Federal Capital Territory\n",
              "3                          Ibadan,Oyo\n",
              "4                Port Harcourt,Rivers\n",
              "                   ...               \n",
              "56                       Nchia,Rivers\n",
              "57                         Egbeda,Oyo\n",
              "58                       Ukpo,Anambra\n",
              "59                    Abagana,Anambra\n",
              "60                       Suleja,Niger\n",
              "Length: 61, dtype: object"
            ]
          },
          "execution_count": 6,
          "metadata": {},
          "output_type": "execute_result"
        }
      ],
      "source": [
        "nigeria_address=nigerian_cities + ',' + nigerian_states\n",
        "nigeria_address"
      ]
    },
    {
      "cell_type": "markdown",
      "metadata": {
        "id": "E67_rcOak2L9"
      },
      "source": [
        "### FUNCTION"
      ]
    },
    {
      "cell_type": "code",
      "execution_count": 7,
      "metadata": {
        "id": "XPPen4xCqUJZ"
      },
      "outputs": [],
      "source": [
        "# Function to generate Nigerian-name\n",
        "naija_names = pd.read_csv(\"naija-names (1).csv\")\n",
        "def generate_nigerian_names():\n",
        "    name =random.choice(naija_names[\"Names\"])\n",
        "    return name"
      ]
    },
    {
      "cell_type": "code",
      "execution_count": 8,
      "metadata": {
        "id": "JA7-Lx6IUqb-"
      },
      "outputs": [],
      "source": [
        "# Function to generate Nigerian-style phone numbers\n",
        "def generate_nigerian_phone_number():\n",
        "    prefix = random.choice([\"080\", \"081\", \"070\", \"090\"])\n",
        "    return f\"{prefix}{random.randint(10000000, 99999999)}\""
      ]
    },
    {
      "cell_type": "code",
      "execution_count": 9,
      "metadata": {
        "id": "C529jnP0EelU"
      },
      "outputs": [],
      "source": [
        "# bvn generator\n",
        "def generate_unique_bvn(used_bvns):\n",
        "    while True:\n",
        "        bvn = fake.random_int(min=10000000000, max=29999999999)\n",
        "        if bvn not in used_bvns:\n",
        "            used_bvns.add(bvn)\n",
        "            return bvn\n",
        "\n",
        "used_bvns = set()"
      ]
    },
    {
      "cell_type": "code",
      "execution_count": 10,
      "metadata": {
        "id": "2IbYssfkOTI2"
      },
      "outputs": [],
      "source": [
        "\n",
        "def generate_emails(user_df):\n",
        "    domain_extensions = [\n",
        "        \"gmail.com\",\n",
        "        \"yahoo.com\",\n",
        "        \"outlook.com\",\n",
        "        \"hotmail.com\",\n",
        "        \"aol.com\",\n",
        "        \"icloud.com\",\n",
        "        \"protonmail.com\",\n",
        "        \"zoho.com\",\n",
        "        \"fastmail.com\",\n",
        "        \"mail.com\",\n",
        "    ]\n",
        "\n",
        "    emails = []\n",
        "\n",
        "    for index, row in user_df.iterrows():\n",
        "        first_name = row['FirstName']\n",
        "        last_name = row['LastName']\n",
        "    \n",
        "        if pd.isna(first_name) or pd.isna(last_name):\n",
        "            emails.append(None)\n",
        "            continue\n",
        "\n",
        "        # Randomly pick the number of characters from the first name\n",
        "        num_chars = random.randint(1, len(first_name))\n",
        "\n",
        "        # Randomly add numbers to the first name\n",
        "        first_name_with_numbers = ''.join([random.choice('0123456789') if i % 2 == 0 else char for i, char in enumerate(first_name)])\n",
        "\n",
        "        # Combine modified first name with last name\n",
        "        username = first_name_with_numbers.lower() + last_name.lower()\n",
        "\n",
        "        # Randomly choose a domain extension (85% chance for \"gmail.com\")\n",
        "        domain = random.choices(domain_extensions, weights=[0.85] + [0.15 / (len(domain_extensions) - 1)] * (len(domain_extensions) - 1))[0]\n",
        "\n",
        "        # Construct the email address\n",
        "        email = f\"{username}@{domain}\"\n",
        "\n",
        "        emails.append(email)\n",
        "\n",
        "    return email\n"
      ]
    },
    {
      "cell_type": "code",
      "execution_count": 11,
      "metadata": {
        "id": "xhYI7QbxJxV7"
      },
      "outputs": [],
      "source": [
        "def generate_gender():\n",
        "    genders = ['Male', 'Female', 'Other']\n",
        "    gender_distribution = [6.4, 3.5, 0.1]\n",
        "    return random.choices(genders, weights=gender_distribution)[0]\n"
      ]
    },
    {
      "cell_type": "markdown",
      "metadata": {
        "id": "oOWixq3dklkY"
      },
      "source": [
        "### USERS TABLE"
      ]
    },
    {
      "cell_type": "code",
      "execution_count": 12,
      "metadata": {
        "id": "ze8lForsA3cM"
      },
      "outputs": [
        {
          "data": {
            "text/html": [
              "<div>\n",
              "<style scoped>\n",
              "    .dataframe tbody tr th:only-of-type {\n",
              "        vertical-align: middle;\n",
              "    }\n",
              "\n",
              "    .dataframe tbody tr th {\n",
              "        vertical-align: top;\n",
              "    }\n",
              "\n",
              "    .dataframe thead th {\n",
              "        text-align: right;\n",
              "    }\n",
              "</style>\n",
              "<table border=\"1\" class=\"dataframe\">\n",
              "  <thead>\n",
              "    <tr style=\"text-align: right;\">\n",
              "      <th></th>\n",
              "      <th>Unnamed: 0</th>\n",
              "      <th>UserID</th>\n",
              "      <th>UserType</th>\n",
              "      <th>Prefix</th>\n",
              "      <th>FirstName</th>\n",
              "      <th>MiddleName</th>\n",
              "      <th>LastName</th>\n",
              "      <th>Suffix</th>\n",
              "      <th>RegistrationDate</th>\n",
              "      <th>LastLogin_Date</th>\n",
              "      <th>Password</th>\n",
              "    </tr>\n",
              "  </thead>\n",
              "  <tbody>\n",
              "    <tr>\n",
              "      <th>0</th>\n",
              "      <td>0</td>\n",
              "      <td>SMU1</td>\n",
              "      <td>IN</td>\n",
              "      <td>Ms.</td>\n",
              "      <td>Aisosa</td>\n",
              "      <td>NaN</td>\n",
              "      <td>Omorogieva</td>\n",
              "      <td>NaN</td>\n",
              "      <td>2023-01-22 09:16:27</td>\n",
              "      <td>2023-02-05 09:16:27</td>\n",
              "      <td>P^dS5GPHjw</td>\n",
              "    </tr>\n",
              "    <tr>\n",
              "      <th>1</th>\n",
              "      <td>1</td>\n",
              "      <td>SMU2</td>\n",
              "      <td>IN</td>\n",
              "      <td>Mr.</td>\n",
              "      <td>Oba</td>\n",
              "      <td>Ih</td>\n",
              "      <td>Daluchi</td>\n",
              "      <td>NaN</td>\n",
              "      <td>2022-03-23 23:01:30</td>\n",
              "      <td>2022-04-11 23:01:30</td>\n",
              "      <td>F*52$*yIuL</td>\n",
              "    </tr>\n",
              "    <tr>\n",
              "      <th>2</th>\n",
              "      <td>2</td>\n",
              "      <td>SMU3</td>\n",
              "      <td>IN</td>\n",
              "      <td>Ms.</td>\n",
              "      <td>Carri</td>\n",
              "      <td>Bellden</td>\n",
              "      <td>Tuti</td>\n",
              "      <td>NaN</td>\n",
              "      <td>2023-10-10 10:00:13</td>\n",
              "      <td>2023-10-15 10:00:13</td>\n",
              "      <td>%hIKaLtv97</td>\n",
              "    </tr>\n",
              "    <tr>\n",
              "      <th>3</th>\n",
              "      <td>3</td>\n",
              "      <td>SMU4</td>\n",
              "      <td>IN</td>\n",
              "      <td>Ms.</td>\n",
              "      <td>Hamest</td>\n",
              "      <td>NaN</td>\n",
              "      <td>Ivan</td>\n",
              "      <td>NaN</td>\n",
              "      <td>2022-03-07 16:55:30</td>\n",
              "      <td>2022-04-04 16:55:30</td>\n",
              "      <td>QRU6C8!h@7</td>\n",
              "    </tr>\n",
              "    <tr>\n",
              "      <th>4</th>\n",
              "      <td>4</td>\n",
              "      <td>SMU5</td>\n",
              "      <td>IN</td>\n",
              "      <td>Mr.</td>\n",
              "      <td>Abdulkhalik</td>\n",
              "      <td>Aiyoboghagbon</td>\n",
              "      <td>Hardwyn</td>\n",
              "      <td>NaN</td>\n",
              "      <td>2022-09-15 10:07:08</td>\n",
              "      <td>2022-10-03 10:07:08</td>\n",
              "      <td>hBN14Q#a^S</td>\n",
              "    </tr>\n",
              "    <tr>\n",
              "      <th>...</th>\n",
              "      <td>...</td>\n",
              "      <td>...</td>\n",
              "      <td>...</td>\n",
              "      <td>...</td>\n",
              "      <td>...</td>\n",
              "      <td>...</td>\n",
              "      <td>...</td>\n",
              "      <td>...</td>\n",
              "      <td>...</td>\n",
              "      <td>...</td>\n",
              "      <td>...</td>\n",
              "    </tr>\n",
              "    <tr>\n",
              "      <th>19653</th>\n",
              "      <td>19653</td>\n",
              "      <td>SMU19654</td>\n",
              "      <td>IN</td>\n",
              "      <td>Ms.</td>\n",
              "      <td>Agboghidi</td>\n",
              "      <td>Aimuemweosa</td>\n",
              "      <td>Ewere</td>\n",
              "      <td>NaN</td>\n",
              "      <td>2020-03-01 21:27:04</td>\n",
              "      <td>2020-03-04 21:27:04</td>\n",
              "      <td>H4)MBPuC*3</td>\n",
              "    </tr>\n",
              "    <tr>\n",
              "      <th>19654</th>\n",
              "      <td>19654</td>\n",
              "      <td>SMU19655</td>\n",
              "      <td>IN</td>\n",
              "      <td>Mr.</td>\n",
              "      <td>Chiemelie</td>\n",
              "      <td>NaN</td>\n",
              "      <td>Halinor</td>\n",
              "      <td>NaN</td>\n",
              "      <td>2021-03-28 04:32:38</td>\n",
              "      <td>2021-04-16 04:32:38</td>\n",
              "      <td>2uBgJOrp)h</td>\n",
              "    </tr>\n",
              "    <tr>\n",
              "      <th>19655</th>\n",
              "      <td>19655</td>\n",
              "      <td>SMU19656</td>\n",
              "      <td>IN</td>\n",
              "      <td>Ms.</td>\n",
              "      <td>Temidayo</td>\n",
              "      <td>NaN</td>\n",
              "      <td>Benjamen</td>\n",
              "      <td>Jr.</td>\n",
              "      <td>2023-02-05 23:48:40</td>\n",
              "      <td>2023-02-10 23:48:40</td>\n",
              "      <td>(hYSk%c5b0</td>\n",
              "    </tr>\n",
              "    <tr>\n",
              "      <th>19656</th>\n",
              "      <td>19656</td>\n",
              "      <td>SMU19657</td>\n",
              "      <td>IN</td>\n",
              "      <td>Ms.</td>\n",
              "      <td>Abadi</td>\n",
              "      <td>Tirzah</td>\n",
              "      <td>Beckie</td>\n",
              "      <td>Null</td>\n",
              "      <td>2022-11-08 19:41:56</td>\n",
              "      <td>2022-11-09 19:41:56</td>\n",
              "      <td>7J3jo_Ze)*</td>\n",
              "    </tr>\n",
              "    <tr>\n",
              "      <th>19657</th>\n",
              "      <td>19657</td>\n",
              "      <td>SMU19658</td>\n",
              "      <td>IN</td>\n",
              "      <td>Ms.</td>\n",
              "      <td>Deagmund</td>\n",
              "      <td>Ubaid</td>\n",
              "      <td>Zebadiah</td>\n",
              "      <td>NaN</td>\n",
              "      <td>2022-04-02 21:24:43</td>\n",
              "      <td>2022-04-11 21:24:43</td>\n",
              "      <td>@51u@Wj$8%</td>\n",
              "    </tr>\n",
              "  </tbody>\n",
              "</table>\n",
              "<p>19658 rows × 11 columns</p>\n",
              "</div>"
            ],
            "text/plain": [
              "       Unnamed: 0    UserID UserType Prefix    FirstName     MiddleName  \\\n",
              "0               0      SMU1       IN    Ms.       Aisosa            NaN   \n",
              "1               1      SMU2       IN    Mr.          Oba             Ih   \n",
              "2               2      SMU3       IN    Ms.        Carri        Bellden   \n",
              "3               3      SMU4       IN    Ms.       Hamest            NaN   \n",
              "4               4      SMU5       IN    Mr.  Abdulkhalik  Aiyoboghagbon   \n",
              "...           ...       ...      ...    ...          ...            ...   \n",
              "19653       19653  SMU19654       IN    Ms.    Agboghidi    Aimuemweosa   \n",
              "19654       19654  SMU19655       IN    Mr.    Chiemelie            NaN   \n",
              "19655       19655  SMU19656       IN    Ms.     Temidayo            NaN   \n",
              "19656       19656  SMU19657       IN    Ms.        Abadi         Tirzah   \n",
              "19657       19657  SMU19658       IN    Ms.     Deagmund          Ubaid   \n",
              "\n",
              "         LastName Suffix     RegistrationDate       LastLogin_Date    Password  \n",
              "0      Omorogieva    NaN  2023-01-22 09:16:27  2023-02-05 09:16:27  P^dS5GPHjw  \n",
              "1         Daluchi    NaN  2022-03-23 23:01:30  2022-04-11 23:01:30  F*52$*yIuL  \n",
              "2            Tuti    NaN  2023-10-10 10:00:13  2023-10-15 10:00:13  %hIKaLtv97  \n",
              "3            Ivan    NaN  2022-03-07 16:55:30  2022-04-04 16:55:30  QRU6C8!h@7  \n",
              "4         Hardwyn    NaN  2022-09-15 10:07:08  2022-10-03 10:07:08  hBN14Q#a^S  \n",
              "...           ...    ...                  ...                  ...         ...  \n",
              "19653       Ewere    NaN  2020-03-01 21:27:04  2020-03-04 21:27:04  H4)MBPuC*3  \n",
              "19654     Halinor    NaN  2021-03-28 04:32:38  2021-04-16 04:32:38  2uBgJOrp)h  \n",
              "19655    Benjamen    Jr.  2023-02-05 23:48:40  2023-02-10 23:48:40  (hYSk%c5b0  \n",
              "19656      Beckie   Null  2022-11-08 19:41:56  2022-11-09 19:41:56  7J3jo_Ze)*  \n",
              "19657    Zebadiah    NaN  2022-04-02 21:24:43  2022-04-11 21:24:43  @51u@Wj$8%  \n",
              "\n",
              "[19658 rows x 11 columns]"
            ]
          },
          "execution_count": 12,
          "metadata": {},
          "output_type": "execute_result"
        }
      ],
      "source": [
        "user_df=pd.read_csv('userdf.csv')\n",
        "user_df"
      ]
    },
    {
      "cell_type": "code",
      "execution_count": 13,
      "metadata": {
        "colab": {
          "base_uri": "https://localhost:8080/"
        },
        "id": "vQgFptm9wGKv",
        "outputId": "fa99d05a-7d62-48a2-99d2-6e4558898cac"
      },
      "outputs": [
        {
          "data": {
            "text/html": [
              "<div>\n",
              "<style scoped>\n",
              "    .dataframe tbody tr th:only-of-type {\n",
              "        vertical-align: middle;\n",
              "    }\n",
              "\n",
              "    .dataframe tbody tr th {\n",
              "        vertical-align: top;\n",
              "    }\n",
              "\n",
              "    .dataframe thead th {\n",
              "        text-align: right;\n",
              "    }\n",
              "</style>\n",
              "<table border=\"1\" class=\"dataframe\">\n",
              "  <thead>\n",
              "    <tr style=\"text-align: right;\">\n",
              "      <th></th>\n",
              "      <th>Unnamed: 0</th>\n",
              "      <th>UserID</th>\n",
              "      <th>Prefix</th>\n",
              "      <th>FirstName</th>\n",
              "      <th>MiddleName</th>\n",
              "      <th>LastName</th>\n",
              "      <th>Suffix</th>\n",
              "      <th>RegistrationDate</th>\n",
              "      <th>LastLogin_Date</th>\n",
              "      <th>Password</th>\n",
              "    </tr>\n",
              "    <tr>\n",
              "      <th>UserType</th>\n",
              "      <th></th>\n",
              "      <th></th>\n",
              "      <th></th>\n",
              "      <th></th>\n",
              "      <th></th>\n",
              "      <th></th>\n",
              "      <th></th>\n",
              "      <th></th>\n",
              "      <th></th>\n",
              "      <th></th>\n",
              "    </tr>\n",
              "  </thead>\n",
              "  <tbody>\n",
              "    <tr>\n",
              "      <th>AG</th>\n",
              "      <td>2143</td>\n",
              "      <td>2143</td>\n",
              "      <td>2143</td>\n",
              "      <td>2140</td>\n",
              "      <td>1431</td>\n",
              "      <td>2141</td>\n",
              "      <td>750</td>\n",
              "      <td>2143</td>\n",
              "      <td>2143</td>\n",
              "      <td>2143</td>\n",
              "    </tr>\n",
              "    <tr>\n",
              "      <th>EM</th>\n",
              "      <td>48</td>\n",
              "      <td>48</td>\n",
              "      <td>48</td>\n",
              "      <td>48</td>\n",
              "      <td>29</td>\n",
              "      <td>48</td>\n",
              "      <td>14</td>\n",
              "      <td>48</td>\n",
              "      <td>48</td>\n",
              "      <td>48</td>\n",
              "    </tr>\n",
              "    <tr>\n",
              "      <th>GC</th>\n",
              "      <td>14</td>\n",
              "      <td>14</td>\n",
              "      <td>14</td>\n",
              "      <td>14</td>\n",
              "      <td>5</td>\n",
              "      <td>14</td>\n",
              "      <td>5</td>\n",
              "      <td>14</td>\n",
              "      <td>14</td>\n",
              "      <td>14</td>\n",
              "    </tr>\n",
              "    <tr>\n",
              "      <th>IN</th>\n",
              "      <td>17255</td>\n",
              "      <td>17255</td>\n",
              "      <td>17255</td>\n",
              "      <td>17232</td>\n",
              "      <td>11531</td>\n",
              "      <td>17229</td>\n",
              "      <td>6030</td>\n",
              "      <td>17255</td>\n",
              "      <td>17255</td>\n",
              "      <td>17255</td>\n",
              "    </tr>\n",
              "    <tr>\n",
              "      <th>SC</th>\n",
              "      <td>198</td>\n",
              "      <td>198</td>\n",
              "      <td>198</td>\n",
              "      <td>198</td>\n",
              "      <td>138</td>\n",
              "      <td>198</td>\n",
              "      <td>71</td>\n",
              "      <td>198</td>\n",
              "      <td>198</td>\n",
              "      <td>198</td>\n",
              "    </tr>\n",
              "  </tbody>\n",
              "</table>\n",
              "</div>"
            ],
            "text/plain": [
              "          Unnamed: 0  UserID  Prefix  FirstName  MiddleName  LastName  Suffix  \\\n",
              "UserType                                                                        \n",
              "AG              2143    2143    2143       2140        1431      2141     750   \n",
              "EM                48      48      48         48          29        48      14   \n",
              "GC                14      14      14         14           5        14       5   \n",
              "IN             17255   17255   17255      17232       11531     17229    6030   \n",
              "SC               198     198     198        198         138       198      71   \n",
              "\n",
              "          RegistrationDate  LastLogin_Date  Password  \n",
              "UserType                                              \n",
              "AG                    2143            2143      2143  \n",
              "EM                      48              48        48  \n",
              "GC                      14              14        14  \n",
              "IN                   17255           17255     17255  \n",
              "SC                     198             198       198  "
            ]
          },
          "execution_count": 13,
          "metadata": {},
          "output_type": "execute_result"
        }
      ],
      "source": [
        "user_df.groupby(['UserType']).count()"
      ]
    },
    {
      "cell_type": "code",
      "execution_count": 14,
      "metadata": {},
      "outputs": [
        {
          "data": {
            "text/html": [
              "<div>\n",
              "<style scoped>\n",
              "    .dataframe tbody tr th:only-of-type {\n",
              "        vertical-align: middle;\n",
              "    }\n",
              "\n",
              "    .dataframe tbody tr th {\n",
              "        vertical-align: top;\n",
              "    }\n",
              "\n",
              "    .dataframe thead th {\n",
              "        text-align: right;\n",
              "    }\n",
              "</style>\n",
              "<table border=\"1\" class=\"dataframe\">\n",
              "  <thead>\n",
              "    <tr style=\"text-align: right;\">\n",
              "      <th></th>\n",
              "      <th>PhoneTypeID</th>\n",
              "      <th>PhoneTypeName</th>\n",
              "    </tr>\n",
              "  </thead>\n",
              "  <tbody>\n",
              "    <tr>\n",
              "      <th>0</th>\n",
              "      <td>1</td>\n",
              "      <td>home</td>\n",
              "    </tr>\n",
              "    <tr>\n",
              "      <th>1</th>\n",
              "      <td>2</td>\n",
              "      <td>work</td>\n",
              "    </tr>\n",
              "    <tr>\n",
              "      <th>2</th>\n",
              "      <td>3</td>\n",
              "      <td>mobile</td>\n",
              "    </tr>\n",
              "    <tr>\n",
              "      <th>3</th>\n",
              "      <td>4</td>\n",
              "      <td>other</td>\n",
              "    </tr>\n",
              "  </tbody>\n",
              "</table>\n",
              "</div>"
            ],
            "text/plain": [
              "   PhoneTypeID PhoneTypeName\n",
              "0            1          home\n",
              "1            2          work\n",
              "2            3        mobile\n",
              "3            4         other"
            ]
          },
          "execution_count": 14,
          "metadata": {},
          "output_type": "execute_result"
        }
      ],
      "source": [
        "phone_type_data = {\n",
        "    'PhoneTypeID': [1, 2, 3, 4],\n",
        "    'PhoneTypeName': ['home', 'work', 'mobile', 'other']\n",
        "}\n",
        "dist=[5,3,1.8,2]\n",
        "phone_type_df = pd.DataFrame(phone_type_data)\n",
        "phone_type_df"
      ]
    },
    {
      "cell_type": "code",
      "execution_count": 15,
      "metadata": {},
      "outputs": [
        {
          "data": {
            "text/html": [
              "<div>\n",
              "<style scoped>\n",
              "    .dataframe tbody tr th:only-of-type {\n",
              "        vertical-align: middle;\n",
              "    }\n",
              "\n",
              "    .dataframe tbody tr th {\n",
              "        vertical-align: top;\n",
              "    }\n",
              "\n",
              "    .dataframe thead th {\n",
              "        text-align: right;\n",
              "    }\n",
              "</style>\n",
              "<table border=\"1\" class=\"dataframe\">\n",
              "  <thead>\n",
              "    <tr style=\"text-align: right;\">\n",
              "      <th></th>\n",
              "      <th>PhoneNumber</th>\n",
              "      <th>ModifiedDate</th>\n",
              "      <th>UserID</th>\n",
              "      <th>PhoneTypeCode</th>\n",
              "    </tr>\n",
              "  </thead>\n",
              "  <tbody>\n",
              "    <tr>\n",
              "      <th>0</th>\n",
              "      <td>07092007480</td>\n",
              "      <td>2023-01-22 09:16:27</td>\n",
              "      <td>SMU1</td>\n",
              "      <td>[2]</td>\n",
              "    </tr>\n",
              "    <tr>\n",
              "      <th>1</th>\n",
              "      <td>08144531131</td>\n",
              "      <td>2022-03-23 23:01:30</td>\n",
              "      <td>SMU2</td>\n",
              "      <td>[1]</td>\n",
              "    </tr>\n",
              "    <tr>\n",
              "      <th>2</th>\n",
              "      <td>09096111162</td>\n",
              "      <td>2023-10-10 10:00:13</td>\n",
              "      <td>SMU3</td>\n",
              "      <td>[1]</td>\n",
              "    </tr>\n",
              "    <tr>\n",
              "      <th>3</th>\n",
              "      <td>08071945912</td>\n",
              "      <td>2022-03-07 16:55:30</td>\n",
              "      <td>SMU4</td>\n",
              "      <td>[1]</td>\n",
              "    </tr>\n",
              "    <tr>\n",
              "      <th>4</th>\n",
              "      <td>08113469627</td>\n",
              "      <td>2022-09-15 10:07:08</td>\n",
              "      <td>SMU5</td>\n",
              "      <td>[1]</td>\n",
              "    </tr>\n",
              "    <tr>\n",
              "      <th>...</th>\n",
              "      <td>...</td>\n",
              "      <td>...</td>\n",
              "      <td>...</td>\n",
              "      <td>...</td>\n",
              "    </tr>\n",
              "    <tr>\n",
              "      <th>19653</th>\n",
              "      <td>09040378999</td>\n",
              "      <td>2020-03-01 21:27:04</td>\n",
              "      <td>SMU19654</td>\n",
              "      <td>[1]</td>\n",
              "    </tr>\n",
              "    <tr>\n",
              "      <th>19654</th>\n",
              "      <td>07045961631</td>\n",
              "      <td>2021-03-28 04:32:38</td>\n",
              "      <td>SMU19655</td>\n",
              "      <td>[4]</td>\n",
              "    </tr>\n",
              "    <tr>\n",
              "      <th>19655</th>\n",
              "      <td>08078427151</td>\n",
              "      <td>2023-02-05 23:48:40</td>\n",
              "      <td>SMU19656</td>\n",
              "      <td>[1]</td>\n",
              "    </tr>\n",
              "    <tr>\n",
              "      <th>19656</th>\n",
              "      <td>08134960136</td>\n",
              "      <td>2022-11-08 19:41:56</td>\n",
              "      <td>SMU19657</td>\n",
              "      <td>[4]</td>\n",
              "    </tr>\n",
              "    <tr>\n",
              "      <th>19657</th>\n",
              "      <td>08028383360</td>\n",
              "      <td>2022-04-02 21:24:43</td>\n",
              "      <td>SMU19658</td>\n",
              "      <td>[1]</td>\n",
              "    </tr>\n",
              "  </tbody>\n",
              "</table>\n",
              "<p>19658 rows × 4 columns</p>\n",
              "</div>"
            ],
            "text/plain": [
              "       PhoneNumber         ModifiedDate    UserID PhoneTypeCode\n",
              "0      07092007480  2023-01-22 09:16:27      SMU1           [2]\n",
              "1      08144531131  2022-03-23 23:01:30      SMU2           [1]\n",
              "2      09096111162  2023-10-10 10:00:13      SMU3           [1]\n",
              "3      08071945912  2022-03-07 16:55:30      SMU4           [1]\n",
              "4      08113469627  2022-09-15 10:07:08      SMU5           [1]\n",
              "...            ...                  ...       ...           ...\n",
              "19653  09040378999  2020-03-01 21:27:04  SMU19654           [1]\n",
              "19654  07045961631  2021-03-28 04:32:38  SMU19655           [4]\n",
              "19655  08078427151  2023-02-05 23:48:40  SMU19656           [1]\n",
              "19656  08134960136  2022-11-08 19:41:56  SMU19657           [4]\n",
              "19657  08028383360  2022-04-02 21:24:43  SMU19658           [1]\n",
              "\n",
              "[19658 rows x 4 columns]"
            ]
          },
          "execution_count": 15,
          "metadata": {},
          "output_type": "execute_result"
        }
      ],
      "source": [
        "phone_type_df = pd.DataFrame(phone_type_data)\n",
        "\n",
        "# Create an empty list to store phone data\n",
        "phone_data = []\n",
        "\n",
        "# Populate phone data for each user\n",
        "for index, row in user_df.iterrows():\n",
        "    user_id = row['UserID']\n",
        "    registration_date = row['RegistrationDate']\n",
        "    phone_type_id = random.choices(phone_type_df['PhoneTypeID'],weights=dist)\n",
        "    change_date = row['RegistrationDate']\n",
        "    phone_number = generate_nigerian_phone_number()\n",
        "    phone_data.append([phone_number, change_date, user_id, phone_type_id])\n",
        "# Create a DataFrame from the phone_data list\n",
        "phone_df = pd.DataFrame(phone_data, columns=['PhoneNumber', 'ModifiedDate', 'UserID', 'PhoneTypeCode'])\n",
        "phone_df\n"
      ]
    },
    {
      "cell_type": "code",
      "execution_count": 16,
      "metadata": {},
      "outputs": [
        {
          "data": {
            "text/html": [
              "<div>\n",
              "<style scoped>\n",
              "    .dataframe tbody tr th:only-of-type {\n",
              "        vertical-align: middle;\n",
              "    }\n",
              "\n",
              "    .dataframe tbody tr th {\n",
              "        vertical-align: top;\n",
              "    }\n",
              "\n",
              "    .dataframe thead th {\n",
              "        text-align: right;\n",
              "    }\n",
              "</style>\n",
              "<table border=\"1\" class=\"dataframe\">\n",
              "  <thead>\n",
              "    <tr style=\"text-align: right;\">\n",
              "      <th></th>\n",
              "      <th>AddressTypeID</th>\n",
              "      <th>AddressTypeName</th>\n",
              "    </tr>\n",
              "  </thead>\n",
              "  <tbody>\n",
              "    <tr>\n",
              "      <th>0</th>\n",
              "      <td>1</td>\n",
              "      <td>home</td>\n",
              "    </tr>\n",
              "    <tr>\n",
              "      <th>1</th>\n",
              "      <td>2</td>\n",
              "      <td>work</td>\n",
              "    </tr>\n",
              "    <tr>\n",
              "      <th>2</th>\n",
              "      <td>3</td>\n",
              "      <td>primary</td>\n",
              "    </tr>\n",
              "    <tr>\n",
              "      <th>3</th>\n",
              "      <td>4</td>\n",
              "      <td>others</td>\n",
              "    </tr>\n",
              "    <tr>\n",
              "      <th>4</th>\n",
              "      <td>5</td>\n",
              "      <td>main office</td>\n",
              "    </tr>\n",
              "  </tbody>\n",
              "</table>\n",
              "</div>"
            ],
            "text/plain": [
              "   AddressTypeID AddressTypeName\n",
              "0              1            home\n",
              "1              2            work\n",
              "2              3         primary\n",
              "3              4          others\n",
              "4              5     main office"
            ]
          },
          "execution_count": 16,
          "metadata": {},
          "output_type": "execute_result"
        }
      ],
      "source": [
        "address_type_data = {\n",
        "    'AddressTypeID': [1, 2, 3, 4,5],\n",
        "    'AddressTypeName': ['home', 'work', 'primary', 'others','main office']\n",
        "}\n",
        "dist=[5,3,1.5,0.3,1]\n",
        "address_type_df = pd.DataFrame(address_type_data)\n",
        "address_type_df"
      ]
    },
    {
      "cell_type": "markdown",
      "metadata": {},
      "source": [
        "### CITY AND STATE"
      ]
    },
    {
      "cell_type": "code",
      "execution_count": 17,
      "metadata": {},
      "outputs": [],
      "source": [
        "states = [\"Abia\", \"Adamawa\", \"Akwa Ibom\", \"Anambra\", \"Bauchi\",\n",
        "          \"Benue\", \"Borno\", \"Cross River\", \"Delta\",\n",
        "          \"Ebonyi\", \"Edo\", \"Ekiti\", \"Enugu\", \"Gombe\", \"Imo\", \"Jigawa\",\n",
        "          \"Kaduna\", \"Kano\", \"Katsina\", \"Kebbi\", \"Kogi\", \"Kwara\",\n",
        "          \"Lagos\", \"Nasarawa\", \"Niger\", \"Ogun\", \"Ondo\", \"Osun\", \"Oyo\",\n",
        "          \"Plateau\", \"Rivers\", \"Sokoto\", \"Taraba\", \"Yobe\", \"Zamfara\",\"Bayelsa\"]\n",
        "\n",
        "state_df = pd.DataFrame({'StateID': range(1, len(states)+1), 'States':states})"
      ]
    },
    {
      "cell_type": "code",
      "execution_count": 18,
      "metadata": {},
      "outputs": [
        {
          "data": {
            "text/html": [
              "<div>\n",
              "<style scoped>\n",
              "    .dataframe tbody tr th:only-of-type {\n",
              "        vertical-align: middle;\n",
              "    }\n",
              "\n",
              "    .dataframe tbody tr th {\n",
              "        vertical-align: top;\n",
              "    }\n",
              "\n",
              "    .dataframe thead th {\n",
              "        text-align: right;\n",
              "    }\n",
              "</style>\n",
              "<table border=\"1\" class=\"dataframe\">\n",
              "  <thead>\n",
              "    <tr style=\"text-align: right;\">\n",
              "      <th></th>\n",
              "      <th>Unnamed: 0</th>\n",
              "      <th>CityID</th>\n",
              "      <th>Cities</th>\n",
              "      <th>StatesID</th>\n",
              "    </tr>\n",
              "  </thead>\n",
              "  <tbody>\n",
              "    <tr>\n",
              "      <th>0</th>\n",
              "      <td>0</td>\n",
              "      <td>1</td>\n",
              "      <td>Aba North</td>\n",
              "      <td>1</td>\n",
              "    </tr>\n",
              "    <tr>\n",
              "      <th>1</th>\n",
              "      <td>1</td>\n",
              "      <td>2</td>\n",
              "      <td>Aba South</td>\n",
              "      <td>1</td>\n",
              "    </tr>\n",
              "    <tr>\n",
              "      <th>2</th>\n",
              "      <td>2</td>\n",
              "      <td>3</td>\n",
              "      <td>Arochukwu</td>\n",
              "      <td>1</td>\n",
              "    </tr>\n",
              "    <tr>\n",
              "      <th>3</th>\n",
              "      <td>3</td>\n",
              "      <td>4</td>\n",
              "      <td>Bende</td>\n",
              "      <td>1</td>\n",
              "    </tr>\n",
              "    <tr>\n",
              "      <th>4</th>\n",
              "      <td>4</td>\n",
              "      <td>5</td>\n",
              "      <td>Ikwuano</td>\n",
              "      <td>1</td>\n",
              "    </tr>\n",
              "    <tr>\n",
              "      <th>...</th>\n",
              "      <td>...</td>\n",
              "      <td>...</td>\n",
              "      <td>...</td>\n",
              "      <td>...</td>\n",
              "    </tr>\n",
              "    <tr>\n",
              "      <th>641</th>\n",
              "      <td>641</td>\n",
              "      <td>642</td>\n",
              "      <td>Nembe</td>\n",
              "      <td>36</td>\n",
              "    </tr>\n",
              "    <tr>\n",
              "      <th>642</th>\n",
              "      <td>642</td>\n",
              "      <td>643</td>\n",
              "      <td>Ogbia</td>\n",
              "      <td>36</td>\n",
              "    </tr>\n",
              "    <tr>\n",
              "      <th>643</th>\n",
              "      <td>643</td>\n",
              "      <td>644</td>\n",
              "      <td>Sagbama</td>\n",
              "      <td>36</td>\n",
              "    </tr>\n",
              "    <tr>\n",
              "      <th>644</th>\n",
              "      <td>644</td>\n",
              "      <td>645</td>\n",
              "      <td>Southern Ijaw</td>\n",
              "      <td>36</td>\n",
              "    </tr>\n",
              "    <tr>\n",
              "      <th>645</th>\n",
              "      <td>645</td>\n",
              "      <td>646</td>\n",
              "      <td>Yenagoa</td>\n",
              "      <td>36</td>\n",
              "    </tr>\n",
              "  </tbody>\n",
              "</table>\n",
              "<p>646 rows × 4 columns</p>\n",
              "</div>"
            ],
            "text/plain": [
              "     Unnamed: 0  CityID         Cities  StatesID\n",
              "0             0       1      Aba North         1\n",
              "1             1       2     Aba South          1\n",
              "2             2       3      Arochukwu         1\n",
              "3             3       4          Bende         1\n",
              "4             4       5        Ikwuano         1\n",
              "..          ...     ...            ...       ...\n",
              "641         641     642          Nembe        36\n",
              "642         642     643          Ogbia        36\n",
              "643         643     644        Sagbama        36\n",
              "644         644     645  Southern Ijaw        36\n",
              "645         645     646        Yenagoa        36\n",
              "\n",
              "[646 rows x 4 columns]"
            ]
          },
          "execution_count": 18,
          "metadata": {},
          "output_type": "execute_result"
        }
      ],
      "source": [
        "cities_df=pd.read_csv('cities.csv')\n",
        "cities_df"
      ]
    },
    {
      "cell_type": "code",
      "execution_count": 19,
      "metadata": {},
      "outputs": [
        {
          "ename": "TypeError",
          "evalue": "unsupported operand type(s) for +=: 'builtin_function_or_method' and 'int'",
          "output_type": "error",
          "traceback": [
            "\u001b[1;31m---------------------------------------------------------------------------\u001b[0m",
            "\u001b[1;31mTypeError\u001b[0m                                 Traceback (most recent call last)",
            "\u001b[1;32mc:\\Users\\jdada\\Downloads\\SharpMonie.ipynb Cell 21\u001b[0m line \u001b[0;36m1\n\u001b[0;32m     <a href='vscode-notebook-cell:/c%3A/Users/jdada/Downloads/SharpMonie.ipynb#X26sZmlsZQ%3D%3D?line=13'>14</a>\u001b[0m     address_type_id\u001b[39m=\u001b[39mrandom\u001b[39m.\u001b[39mchoice(address_type_df[\u001b[39m'\u001b[39m\u001b[39mAddressTypeID\u001b[39m\u001b[39m'\u001b[39m])\n\u001b[0;32m     <a href='vscode-notebook-cell:/c%3A/Users/jdada/Downloads/SharpMonie.ipynb#X26sZmlsZQ%3D%3D?line=14'>15</a>\u001b[0m     address_data\u001b[39m.\u001b[39mappend([\u001b[39mid\u001b[39m, address_line1,address_line2, city_id, user_id, address_type_id])\n\u001b[1;32m---> <a href='vscode-notebook-cell:/c%3A/Users/jdada/Downloads/SharpMonie.ipynb#X26sZmlsZQ%3D%3D?line=15'>16</a>\u001b[0m     \u001b[39mid\u001b[39;49m\u001b[39m+\u001b[39;49m\u001b[39m=\u001b[39;49m\u001b[39m1\u001b[39;49m\n\u001b[0;32m     <a href='vscode-notebook-cell:/c%3A/Users/jdada/Downloads/SharpMonie.ipynb#X26sZmlsZQ%3D%3D?line=16'>17</a>\u001b[0m \u001b[39m# Create a DataFrame from the phone_data list\u001b[39;00m\n\u001b[0;32m     <a href='vscode-notebook-cell:/c%3A/Users/jdada/Downloads/SharpMonie.ipynb#X26sZmlsZQ%3D%3D?line=17'>18</a>\u001b[0m address_df \u001b[39m=\u001b[39m pd\u001b[39m.\u001b[39mDataFrame(address_data, columns\u001b[39m=\u001b[39m[\u001b[39m'\u001b[39m\u001b[39mAddressID\u001b[39m\u001b[39m'\u001b[39m, \u001b[39m'\u001b[39m\u001b[39mAddressLine1\u001b[39m\u001b[39m'\u001b[39m, \u001b[39m'\u001b[39m\u001b[39mAddressLine2\u001b[39m\u001b[39m'\u001b[39m,\u001b[39m'\u001b[39m\u001b[39mCITY\u001b[39m\u001b[39m'\u001b[39m, \u001b[39m'\u001b[39m\u001b[39mUserID\u001b[39m\u001b[39m'\u001b[39m, \u001b[39m'\u001b[39m\u001b[39mAddressTypeCode\u001b[39m\u001b[39m'\u001b[39m])\n",
            "\u001b[1;31mTypeError\u001b[0m: unsupported operand type(s) for +=: 'builtin_function_or_method' and 'int'"
          ]
        }
      ],
      "source": [
        "address_type_df = pd.DataFrame(address_type_data)\n",
        "fake=Faker()\n",
        "# Create an empty list to store phone data\n",
        "address_data = []\n",
        "d=[4,6]\n",
        "\n",
        "# Populate phone data for each user\n",
        "for index, row in user_df.iterrows():\n",
        "    user_id = row['UserID']\n",
        "    pick=[f'{fake.address()}','Null']\n",
        "    address_line1=f'{fake.address()}'[:20]\n",
        "    address_line2=random.choices(pick,weights=d)[:20]\n",
        "    city_id=random.choices(cities_df['CityID'])\n",
        "    address_type_id=random.choice(address_type_df['AddressTypeID'])\n",
        "    address_data.append([id, address_line1,address_line2, city_id, user_id, address_type_id])\n",
        "    id+=1\n",
        "# Create a DataFrame from the phone_data list\n",
        "address_df = pd.DataFrame(address_data, columns=['AddressID', 'AddressLine1', 'AddressLine2','CITY', 'UserID', 'AddressTypeCode'])\n",
        "address_df\n",
        "\n"
      ]
    },
    {
      "cell_type": "markdown",
      "metadata": {},
      "source": [
        "##EMAIL ADDRESS"
      ]
    },
    {
      "cell_type": "code",
      "execution_count": null,
      "metadata": {},
      "outputs": [
        {
          "ename": "",
          "evalue": "",
          "output_type": "error",
          "traceback": [
            "\u001b[1;31mThe Kernel crashed while executing code in the the current cell or a previous cell. Please review the code in the cell(s) to identify a possible cause of the failure. Click <a href='https://aka.ms/vscodeJupyterKernelCrash'>here</a> for more info. View Jupyter <a href='command:jupyter.viewOutput'>log</a> for further details."
          ]
        }
      ],
      "source": [
        "\n",
        "email_address_data = []\n",
        "\n",
        "# Populate phone data for each user\n",
        "for index, row in user_df.iterrows():\n",
        "    user_id = row['UserID']\n",
        "    firstname=row['FirstName']\n",
        "    email=generate_emails(user_df)\n",
        "    modifiedDate=row['RegistrationDate']\n",
        "# Create a DataFrame from the phone_data list\n",
        "address_df = pd.DataFrame(address_data, columns=['UserID','Email','ModifiedDate'])\n",
        "address_df"
      ]
    },
    {
      "cell_type": "code",
      "execution_count": null,
      "metadata": {},
      "outputs": [],
      "source": [
        "\n",
        "# Define the percentage of employees leaving the department\n",
        "percentage_of_departure = 5  # Approximately 5% of employees leave the department\n",
        "\n",
        "# Create an empty DataFrame to store employee history data\n",
        "employee_history_df = pd.DataFrame(columns=[\"UserID\", \"DepartmentID\", \"StartDate\", \"EndDate\", \"ModifiedDate\"])\n",
        "\n",
        "# Function to calculate a random start date based on the provided rules\n",
        "def calculate_start_date(registration_date, switching_departments):\n",
        "    if switching_departments:\n",
        "        return str(registration_date) + str(timedelta(days=random.randint(1, 365)))\n",
        "    else:\n",
        "        return registration_date\n",
        "\n",
        "# Function to calculate the end date based on the provided rules\n",
        "def calculate_end_date(start_date, is_departure):\n",
        "    if is_departure:\n",
        "        return str(start_date)+ str(timedelta(days=random.randint(1, 365)))\n",
        "    else:\n",
        "        return None\n",
        "\n",
        "# Generate employee history data\n",
        "for index, employee_row in employee_df.iterrows():\n",
        "    # Determine the department for the employee based on job title and department information\n",
        "# Determine the department for the employee based on job title and department information\n",
        "    matching_departments = department_df[\n",
        "        (department_df[\"Department Name\"] == employee_row[\"JobTitle\"])\n",
        "    ]\n",
        "\n",
        "    \n",
        "    if not matching_departments.empty:\n",
        "        department_id = matching_departments[\"DepartmentID\"].values[0]\n",
        "    else:\n",
        "        # If no matching department is found, assign a default department ID\n",
        "        department_id = 0\n",
        "\n",
        "    # Determine if the employee is switching departments\n",
        "    switching_departments = random.choices([True, False], [5, 95])[0]\n",
        "\n",
        "    # Calculate the start date based on the rules\n",
        "    start_date = calculate_start_date(employee_row[\"HireDate\"], switching_departments)\n",
        "\n",
        "    # Determine if the employee is departing from the department\n",
        "    is_departure = random.choices([True, False], [percentage_of_departure, 100 - percentage_of_departure])[0]\n",
        "\n",
        "    # Calculate the end date based on the rules\n",
        "    end_date = calculate_end_date(start_date, is_departure)\n",
        "\n",
        "    # Create a new employee history record\n",
        "    employee_history_data = {\n",
        "        \"UserID\": employee_row[\"USERid\"],\n",
        "        \"DepartmentID\": department_id,\n",
        "        \"StartDate\": start_date,\n",
        "        \"EndDate\": end_date,\n",
        "        \"ModifiedDate\": datetime.now()\n",
        "    }\n",
        "\n",
        "    # Append the employee history record to the DataFrame\n",
        "    employee_history_df = employee_history_df.append(employee_history_data, ignore_index=True)\n",
        "employee_history_df\n"
      ]
    },
    {
      "cell_type": "code",
      "execution_count": null,
      "metadata": {},
      "outputs": [],
      "source": [
        "providers_df"
      ]
    },
    {
      "cell_type": "code",
      "execution_count": null,
      "metadata": {},
      "outputs": [],
      "source": []
    },
    {
      "cell_type": "code",
      "execution_count": null,
      "metadata": {
        "id": "K4kdRmsahag3"
      },
      "outputs": [],
      "source": [
        "# DeviceTokens table\n",
        "device_tokens_data = []\n",
        "user_datas= user_id=df_user['UserID']\n",
        "for user_id in user_datas:\n",
        "    num_tokens = random.randint(1, 3)\n",
        "    for _ in range(num_tokens):\n",
        "        token_id = len(device_tokens_data) + 1\n",
        "        device_type = random.choice(['iOS', 'Android', 'Web'])\n",
        "        token = fake.sha256()\n",
        "        expiration_date = fake.date_time_between(start_date=\"now\", end_date=\"+1y\")\n",
        "        device_tokens_data.append((token_id, user_id, device_type, token, expiration_date))\n",
        "device_tokens_df = pd.DataFrame(device_tokens_data, columns=['TokenID', 'UserID', 'DeviceType', 'Token', 'ExpirationDate'])\n"
      ]
    },
    {
      "cell_type": "code",
      "execution_count": null,
      "metadata": {
        "id": "e_VobjzaiA72"
      },
      "outputs": [],
      "source": [
        "device_tokens_df"
      ]
    },
    {
      "cell_type": "markdown",
      "metadata": {
        "id": "znBk0i5CnYpG"
      },
      "source": [
        "**SESSION DATA**"
      ]
    },
    {
      "cell_type": "code",
      "execution_count": null,
      "metadata": {
        "id": "c4bfilvSiPhA"
      },
      "outputs": [],
      "source": [
        "# SessionData table\n",
        "session_data = []\n",
        "for user_id in range(1, num_users + 1):\n",
        "    num_sessions = random.randint(1, 5)\n",
        "    for _ in range(num_sessions):\n",
        "        session_id = len(session_data) + 1\n",
        "        session_token = fake.sha256()\n",
        "        expiration_time = fake.date_time_between(start_date=\"now\", end_date=\"+1d\")\n",
        "        session_data.append((session_id, user_id, session_token, expiration_time))\n",
        "session_data_df = pd.DataFrame(session_data, columns=['SessionID', 'UserID', 'SessionToken', 'ExpirationTime'])\n"
      ]
    },
    {
      "cell_type": "code",
      "execution_count": null,
      "metadata": {
        "id": "_cgnj8zailE1"
      },
      "outputs": [],
      "source": [
        "session_data_df"
      ]
    },
    {
      "cell_type": "markdown",
      "metadata": {
        "id": "UKt42M4YnOUW"
      },
      "source": [
        "**AUDIT LOG**"
      ]
    },
    {
      "cell_type": "code",
      "execution_count": null,
      "metadata": {
        "id": "BSgWH6N6kb_G"
      },
      "outputs": [],
      "source": [
        "# AuditLogs table\n",
        "\n",
        "audit_logs_data=[]\n",
        "for user_id in range(1, num_users + 1):\n",
        "    num_logs = random.randint(1, 20)\n",
        "    for _ in range(num_logs):\n",
        "        log_id = len(audit_logs_data) + 1\n",
        "        action = random.choice(['Login', 'Logout', 'Transaction', 'Other'])\n",
        "        login_time = fake.date_time_between(start_date=\"-1y\", end_date=\"now\")\n",
        "        logout_time = login_time + timedelta(minutes=random.randint(5, 120))\n",
        "        details = f\"IP: {fake.ipv4()}; Browser: {fake.user_agent()}; Device: {fake.word()}\"\n",
        "\n",
        "        # Check if the user has a last_login_date, if not, use a random one\n",
        "        if user_id <= len(user_data):\n",
        "            last_login_date = user_data[user_id - 1][-3]\n",
        "        else:\n",
        "            last_login_date = fake.date_time_between(start_date=\"-1y\", end_date=\"now\")\n",
        "\n",
        "        audit_logs_data.append((log_id, user_id, action, login_time, logout_time, last_login_date, details))\n",
        "\n",
        "\n"
      ]
    },
    {
      "cell_type": "code",
      "execution_count": null,
      "metadata": {
        "id": "KEK_JmnTmqM8"
      },
      "outputs": [],
      "source": [
        "# Convert the list to the DataFrame\n",
        "audit_logs_df = pd.DataFrame(audit_logs_data, columns=['LogID', 'UserID', 'Action', 'LoginTime', 'LogoutTime', 'LastLoginDate', 'Details'])"
      ]
    },
    {
      "cell_type": "code",
      "execution_count": null,
      "metadata": {
        "id": "6N3Sgpz6msmK"
      },
      "outputs": [],
      "source": [
        "audit_logs_df"
      ]
    },
    {
      "cell_type": "markdown",
      "metadata": {
        "id": "YmhNHCIShS1b"
      },
      "source": [
        "### USER PREFERENCE"
      ]
    },
    {
      "cell_type": "code",
      "execution_count": null,
      "metadata": {
        "id": "Nf5MOaZfLd2j"
      },
      "outputs": [],
      "source": [
        "# user preferences for each user\n",
        "\n",
        "user_preferences_data = []\n",
        "\n",
        "common_preferences = [\n",
        "    (\"Language\", [\"English\", \"French\", \"Yoruba\", \"Igbo\",\"Hausa\"]),\n",
        "    (\"Currency\", [\"NGN\"]),\n",
        "    (\"Notification Preferences\", [\"Email\", \"SMS\", \"Push Notifications\"]),\n",
        "    (\"Security Settings\", [\"Biometric Authentication\", \"PIN Code\", \"Two-Factor Authentication\"]),\n",
        "    (\"Transaction Limits\", [\"No Limit\", \"Daily Limit: ₦1000\", \"Daily Limit: ₦5000\", \"Daily Limit: ₦10000\"]),\n",
        "]\n",
        "\n",
        "\n",
        "for user_id in range(1, num_users + 1):\n",
        "    num_preferences = random.randint(3, 6)\n",
        "    for _ in range(num_preferences):\n",
        "        preference_id = len(user_preferences_data) + 1\n",
        "        preference_name, values = random.choice(common_preferences)\n",
        "        preference_value = random.choice(values)\n",
        "        user_preferences_data.append((preference_id, user_id, preference_name, preference_value))\n",
        "user_preferences_df = pd.DataFrame(user_preferences_data, columns=['PreferenceID', 'UserID', 'PreferenceName', 'PreferenceValue'])\n",
        "\n"
      ]
    },
    {
      "cell_type": "code",
      "execution_count": null,
      "metadata": {},
      "outputs": [],
      "source": [
        "service_table = [\n",
        "    (1, 'Ethel Clothe Online Store (CLOT)'),\n",
        "    (1, 'ELITE PERFUME (ELP)'),\n",
        "    (1, 'Ethel Product Payment (ETH)'),\n",
        "    (1, 'FENRASTI ENTERPRISES (FENR)'),\n",
        "    (1, 'francfol (francfol)'),\n",
        "    (1, 'Friesland Key Business Partners (FKBP)'),\n",
        "    (1, 'Genesis Group (GENE)'),\n",
        "    (1, 'Hakman Engineering (HEL)'),\n",
        "    (1, 'Hottub Pinault Nigeria Limited (HTP)'),\n",
        "    (1, 'Intense Studios (INSD)'),\n",
        "    (2, 'Benin Moov (MOOV BEMV)'),\n",
        "    (2, 'Cameroon Orange (CMOR)'),\n",
        "    (2, 'chatr (Canada Bell) (CANB)'),\n",
        "    (2, 'Canada ChatR (CANC)'),\n",
        "    (2, 'Canada Fido (fido CANF)'),\n",
        "    (2, 'Canada Koodo (Koodo CANK)'),\n",
        "    (2, 'MTS Canada (MTS CANM)'),\n",
        "    (2, 'Public Canada (PublicMobile CANP)'),\n",
        "    (2, 'Canada Rogers (ROGERS CANR)'),\n",
        "    (2, 'Canada Solo (CANS)'),\n",
        "    (2, 'Canada Virgin'),\n",
        "    (3, 'Jewelrybyartrun (JBAR)'),\n",
        "    (3, 'ARTRUN Retailpay (Retailpay)'),\n",
        "    (3, 'Ckonga'),\n",
        "    (3, 'JUSTFAITHBOUTIQUEANDSALOON (RPYM10139)'),\n",
        "    (3, 'Kandlekids (KKD)'),\n",
        "    (3, 'kassman ladies (KSLS)'),\n",
        "    (3, 'KING-DON INVESTMENT LTD (KDIL)'),\n",
        "    (3, 'Konga.com (KNGA)'),\n",
        "    (3, 'Laurel Place (LaurelPlace LAU01)'),\n",
        "    (3, 'RetailpayP (Retailpay)'),\n",
        "    (3, 'Lawscope (LAW)'),\n",
        "    (3, 'lizzyola enterprises (LYES)'),\n",
        "    (3, 'Love Base (LoveBase LVB)'),\n",
        "    (3, 'Netanpay (LYES)'),\n",
        "    (3, 'LoveBase'),\n",
        "    (4, 'NaijaBet'),\n",
        "    (4, 'LS Bet (Livescorebet)'),\n",
        "    (4, 'HUB (Mylottohub)'),\n",
        "    (4, 'Merrybet'),\n",
        "    (4, 'Naira Million'),\n",
        "    (4, 'BetCorrect'),\n",
        "    (4, 'HELABET NEW'),\n",
        "    (4, 'ILOTBET'),\n",
        "    (4, 'betway'),\n",
        "    (4, 'betBonanza'),\n",
        "    (4, 'bet9ja'),\n",
        "    (4, 'EasyWin'),\n",
        "    (4, 'Propaga Frapapa'),\n",
        "    (4, 'MEGAMILLIONS'),\n",
        "    (4, 'ILOTBET'),\n",
        "    (4, 'SportyBet'),\n",
        "    (4, 'WAJEGAME HOT (WAJE)'),\n",
        "    (4, 'BetKing'),\n",
        "    (4, '1XBET'),\n",
        "    (4, 'Bangbet'),\n",
        "    (5, 'Ethiopian Airlines (ETAS)'),\n",
        "    (5, 'Hak Air Book-On-Hold (HKAIR)'),\n",
        "    (5, 'Hotel Booking Limited (HQT)'),\n",
        "    (5, 'JEFA TRAVELS (JEFA)'),\n",
        "    (5, 'Medview Airlines (MDV)'),\n",
        "    (5, 'Nahco Aviance (Nahco)'),\n",
        "    (5, 'OVERLAND AIRWAYS LIMITED (OVER)'),\n",
        "    (5, 'Pan-Atlantic University (PANQ)'),\n",
        "    (5, 'PENCILLAND TRAVELS AND TOURS LIMITED (PENT)'),\n",
        "    (5, 'RwandAir Book on Hold (RWD)'),\n",
        "    (5, 'Slim Trader Mobile Book-On-Hold (ST)'),\n",
        "    (5, 'Emirates'),\n",
        "    (6, 'Chisco Transport Nigeria Limited (CTC)'),\n",
        "    (6, 'EcoBank EasyFuel Top-up (ESF)'),\n",
        "    (6, 'GIG MOBILITY LIMITED (GIGM)'),\n",
        "    (6, 'Lekki Concession Company (Toll Payment) (LCC)'),\n",
        "    (6, 'Rivers State Motor Vehicle Registration (RVAR)'),\n",
        "    (6, 'Sprym.com (SPRY)'),\n",
        "    (6, 'Stanbic EasyFuel Top-up (ETU)'),\n",
        "    (6, 'Tranzit Location Service (TLS)'),\n",
        "    (6, 'Travelbeta.com Limited (TBET)'),\n",
        "    (6, 'Travelpaddy.com'),\n",
        "    (7, 'kw.kcash (Kwikcash MNS)'),\n",
        "    (7, 'Empowering The Corps (ETC)'),\n",
        "    (7, 'Interswitch Lending Service (ILS)'),\n",
        "    (7, 'One Finance (OFI)'),\n",
        "    (7, 'Primera Credit MFB (PRM)'),\n",
        "    (8, 'Bayelsa State IGR (Bayels)'),\n",
        "    (8, 'Birnin Gwari Local Government (Birni)'),\n",
        "    (8, 'BSEB Online (Benue State Examination Board)'),\n",
        "    (8, 'CALABAR MUNICIPAL LOCAL GOVERNMENT (CMN)'),\n",
        "    (9, 'Afe Babalola University Ado Ekiti (ABUA)'),\n",
        "    (9, 'Ajayi Crowther University (AJU)'),\n",
        "    (9, 'Al-Qalam University (ALQU)'),\n",
        "    (9, 'Association of Medical Lab. Scientists (ASM)'),\n",
        "    (9, 'Baseline Advance College of Arts, Science (BACASTECH)'),\n",
        "    (10, 'Ibadan Electricity (IBEDC)'),\n",
        "    (10, 'Ibadan Electricity'),\n",
        "    (10, 'Kaduna Electricity'),\n",
        "    (10, 'Ikeja Disco'),\n",
        "    (10, 'AEDC Abuja Electricity'),\n",
        "    (10, 'PH (Port Harcourt)'),\n",
        "    (10, 'ECEDC'),\n",
        "    (10, 'Eko Electricity'),\n",
        "    (10, 'EEDC'),\n",
        "    (10, 'Enugu Electricity'),\n",
        "    (10, 'Kano Electricity (KEDCO)'),\n",
        "    (10, 'BEDC Benin Electricity'),\n",
        "    (11, 'ePAY (EPAY)'),\n",
        "    (11, 'QuickSteller (Quick teller)'),\n",
        "    (11, 'Oando eVAP (eVAP)'),\n",
        "    (11, 'ePAY Payments'),\n",
        "    (11, 'DHL shipping payments (POS DHL)'),\n",
        "    (11, 'Hududullah (HUD)'),\n",
        "    (11, 'Oando eVAP (Diesel Sales) (OML)'),\n",
        "    (11, 'Oando Marketing Limited (OML)'),\n",
        "    (11, 'OMNIVU (OMNIV)'),\n",
        "    (12, 'NSIA Insurance Existing Customers (NSIAEC)'),\n",
        "    (12, 'NSIA Insurance New Customer or Agent (NINCA)'),\n",
        "    (12, 'Prestige Assurance (PSIS)'),\n",
        "    (12, 'QuickLife (QKLF)'),\n",
        "    (12, 'RenMoney MFB Limited (REMML)'),\n",
        "    (12, 'SmartInsure (QTIN)'),\n",
        "    (12, 'Springlife Assurance (SPLA)'),\n",
        "    (12, 'Stanbic IBTC Asset Management (SIAML)'),\n",
        "    (12, 'Standard Alliance (STA)'),\n",
        "    (12, 'UnityKapital Premium (UNK)'),\n",
        "    (12, 'Corper Insurance Premium Service (HCIPS)'),\n",
        "    (12, 'CUSTODIAN LIFE ASSURANCE LTD (CUSL)'),\n",
        "    (12, 'Ensure Insurance Plc Existing Customers (EIPEC)'),\n",
        "    (12, 'Ensure Insurance Plc New Customer (EIP)'),\n",
        "    (12, 'FAN Capital'),\n",
        "    (12, 'FBN QUEST ASSET MANAGEMENT (FBNQA)'),\n",
        "    (12, 'Great Nigeria Insurance (GNI)'),\n",
        "    (13, 'airtel Buy Android Bundles (AB BAB)'),\n",
        "    (13, 'airtel Buy Talk More Bundles (BTMB)'),\n",
        "    (13, 'Cloudware Technologies (CLOURE CWIS)'),\n",
        "    (13, 'ESBA DESIGNERS (ESBA)'),\n",
        "    (13, 'mobitel (MTN)'),\n",
        "    (13, 'Interbound Resources (INTBD)'),\n",
        "    (13, 'Mobitel Payments (MBTL)'),\n",
        "    (13, 'MTN Fixed Internet (MFI)'),\n",
        "    (13, 'MTN Hynet Quickteller (MHNT)'),\n",
        "    (13, 'Multilinks Internet e-PIN Voucher (MTLK)'),\n",
        "    (13, 'Smart SMS Solutions (smart sms solutions SMS)'),\n",
        "    (14, 'MTN'),\n",
        "    (14, 'Airtel'),\n",
        "    (14, 'glo'),\n",
        "    (14, '9Mobile'),\n",
        "    (15, 'Bodor badoza.com (DaDoza)'),\n",
        "    (15, 'Supatim (Clevermash.com)'),\n",
        "    (15, \"Glamour's Place (GLM)\"),\n",
        "    (15, 'Payment on Supatins (SUT)'),\n",
        "    (15, 'ale Shop on Kuteshop (KUT)'),\n",
        "    (15, \"Biker's Arena\"),\n",
        "    (16, 'WINNERS CHAPEL LFCW'),\n",
        "    (16, 'Salvation Ministries (SMT)'),\n",
        "    (16, 'Mountain Of Fire Donation MFM'),\n",
        "    (16, 'The Bible Society of Nigeria (BSN)'),\n",
        "    (16, 'Battle Cry Christian Ministries (BCCM)'),\n",
        "    (16, 'Catholic Archdiocese of Lagos (CAL)'),\n",
        "    (16, 'CCIC Christ Chapel Int\\'l Churches'),\n",
        "    (16, 'Christ Embassy (CEI)'),\n",
        "    (16, 'Christ Embassy Loveworld App (CEP)'),\n",
        "    (16, 'Church Of God Mission Int\\'l'),\n",
        "    (16, 'CSN Appeal Fund (CSN)'),\n",
        "    (16, 'DKO EBOOKS (KODN)'),\n",
        "    (16, 'Eckankar ECK'),\n",
        "    (16, 'Emmanuel Global Network Limited (EGNL)'),\n",
        "    (16, 'Gateway International Church (GICP)'),\n",
        "    (16, 'Glory Impact Christian Centre (GICC)'),\n",
        "    (16, 'GRACE ASSEMBLY (GA)'),\n",
        "    (16, 'Harvesters International Christian Centre (HICC)'),\n",
        "    (16, 'HighLife Church (HLC)'),\n",
        "    (16, 'House on the Rock (HOTR)'),\n",
        "    (16, 'NASFAT'),\n",
        "    (16, 'Liberation Embassy (LIB)'),\n",
        "    (16, 'Living Impact Christian Centre (LICC)'),\n",
        "    (16, 'Living word ministries (LWM)'),\n",
        "    (17, '234Give (act now)'),\n",
        "    (17, 'Buhari Support Organisation (BSO)'),\n",
        "    (17, 'Brennd Lonson @50 (Bunmi Lawson @ 50)'),\n",
        "    (17, 'Center For Defense Of Widows Rights (CEDWI)'),\n",
        "    (17, 'Dawah Nigeria (DAWAH)'),\n",
        "    (17, 'Disability Empowerment Solution Initiatives (DESI)'),\n",
        "    (17, 'Discovery for Men (DCM)'),\n",
        "    (17, 'Donate To E.A.A (DEAA)'),\n",
        "    (17, 'Dr Ameyo Stella Adadevoh Health Trust (CPHILL)')\n",
        "]\n",
        "\n",
        "df_biller=pd.DataFrame(service_table)"
      ]
    },
    {
      "cell_type": "code",
      "execution_count": null,
      "metadata": {},
      "outputs": [],
      "source": [
        "\n",
        "\n",
        "# Define a function to apply the logic for creating the \"AccountFlag\" column\n",
        "def create_account_flag(row):\n",
        "    category_id = row['CategoryID']\n",
        "    if category_id == 1:\n",
        "        return 1\n",
        "    elif category_id == 2:\n",
        "        return 0\n",
        "    elif category_id in [3, 5, 6, 9, 14, 15, 17]:\n",
        "        return 1 if random.random() <= 0.7 else 0  # 70% chance for 1, 30% chance for 0\n",
        "    elif category_id == 4 or category_id in [7, 8, 10, 11, 12, 13, 16]:\n",
        "        return 0\n",
        "    elif category_id == 5:\n",
        "        return 1 if random.random() <= 0.95 else 0  # 95% chance for 1, 5% chance for 0\n",
        "    else:\n",
        "        return None  # You can handle other cases as needed\n",
        "\n",
        "# Apply the function to create the \"AccountFlag\" column in \"df_biller\"\n",
        "df_biller['AccountFlag'] = df_biller.apply(create_account_flag, axis=1)\n",
        "\n",
        "# Now, \"df_biller\" will have a new \"AccountFlag\" column with the specified logic applied.\n"
      ]
    },
    {
      "cell_type": "code",
      "execution_count": null,
      "metadata": {},
      "outputs": [],
      "source": [
        "df_biller"
      ]
    },
    {
      "cell_type": "code",
      "execution_count": null,
      "metadata": {},
      "outputs": [],
      "source": [
        "\n",
        "header=['CategoryID','Provider']\n",
        "df_biller.columns=header\n",
        "df_biller.to_csv('biller.csv', index=False)"
      ]
    },
    {
      "cell_type": "code",
      "execution_count": null,
      "metadata": {},
      "outputs": [],
      "source": [
        "df_biller=pd.read_csv('biller.csv')"
      ]
    },
    {
      "cell_type": "code",
      "execution_count": null,
      "metadata": {},
      "outputs": [],
      "source": [
        "df_biller"
      ]
    },
    {
      "cell_type": "code",
      "execution_count": null,
      "metadata": {
        "id": "Tg2kiiFtLsCz"
      },
      "outputs": [],
      "source": [
        "user_preferences_df"
      ]
    },
    {
      "cell_type": "markdown",
      "metadata": {
        "id": "Wtswyh_Bkb7W"
      },
      "source": [
        "### CUSTOMERS"
      ]
    },
    {
      "cell_type": "code",
      "execution_count": null,
      "metadata": {
        "id": "OgYkI73yW9H6"
      },
      "outputs": [],
      "source": [
        "df_customer = df_user[df_user['RoleID'] == 1]"
      ]
    },
    {
      "cell_type": "code",
      "execution_count": null,
      "metadata": {
        "id": "StVV0Cye_1Np"
      },
      "outputs": [],
      "source": [
        "customer_data = []\n",
        "customer_id_counter = 1\n",
        "\n",
        "for user_id in df_customer['UserID']:\n",
        "    bvn = generate_unique_bvn(used_bvns)\n",
        "    gender= generate_gender()\n",
        "    dob = fake.date_of_birth(minimum_age=18, maximum_age=70)\n",
        "    address=generate_nigerian_address()\n",
        "    customer_id = f'CID{customer_id_counter:04}'\n",
        "    customer_data.append((customer_id, bvn, user_id,gender,address,dob))\n",
        "    customer_id_counter += 1"
      ]
    },
    {
      "cell_type": "code",
      "execution_count": null,
      "metadata": {
        "id": "Zt-xmoaW_UYD"
      },
      "outputs": [],
      "source": [
        "df_customer=pd.DataFrame(customer_data, columns=['CustomerID','BVN', 'UserID','Gender','Address','DateOFBirth'])"
      ]
    },
    {
      "cell_type": "code",
      "execution_count": null,
      "metadata": {
        "id": "DhzBcAGb1Ulj"
      },
      "outputs": [],
      "source": [
        "df_customer"
      ]
    },
    {
      "cell_type": "code",
      "execution_count": null,
      "metadata": {
        "id": "T5Ay7uWQdm6U"
      },
      "outputs": [],
      "source": [
        "df_user.groupby(['RoleID']).count()"
      ]
    },
    {
      "cell_type": "markdown",
      "metadata": {
        "id": "oypY8Yo-wLE9"
      },
      "source": [
        "**GEOLOCATION DATA**"
      ]
    },
    {
      "cell_type": "code",
      "execution_count": null,
      "metadata": {
        "id": "Ki5faFdmwIjP"
      },
      "outputs": [],
      "source": [
        "geolocation_data=[]\n",
        "\n",
        "geo_data_list = list(nigeria_location_data.iterrows())\n",
        "\n",
        "for user_id in range(1, num_users + 1):\n",
        "    num_locations = len(nigeria_location_data)\n",
        "    for _ in range(num_locations):\n",
        "        row = random.choice(geo_data_list)[1]\n",
        "        city = row['city']\n",
        "        lat = row['lat']\n",
        "        lng = row['lng']\n",
        "\n",
        "        # Generate a random timestamp between the last year and now\n",
        "        timestamp = fake.date_time_between(start_date=\"-1y\", end_date=\"now\")\n",
        "\n",
        "        geolocation_data.append((user_id, city, lat, lng, timestamp))\n",
        "\n",
        "# Convert the list to the DataFrame\n",
        "geolocation_data_df = pd.DataFrame(geolocation_data, columns=['UserID', 'City', 'Latitude', 'Longitude', 'Timestamp'])\n"
      ]
    },
    {
      "cell_type": "code",
      "execution_count": null,
      "metadata": {
        "id": "zyFzoEfN3V7C"
      },
      "outputs": [],
      "source": [
        "\n",
        "geolocation_data_df"
      ]
    },
    {
      "cell_type": "markdown",
      "metadata": {
        "id": "PQFPoweYkMcI"
      },
      "source": [
        "### WALLET"
      ]
    },
    {
      "cell_type": "code",
      "execution_count": null,
      "metadata": {
        "id": "LKmbqJu9fTdU"
      },
      "outputs": [],
      "source": [
        "#  mapping of Account Types to RoleIDs\n",
        "import string\n",
        "account_type_mapping = {\n",
        "    1: [\"Savings: KYC 1\", \"Savings: KYC 2\", \"Savings: KYC 3\"],\n",
        "    2: [\"SharpMonie Agent\"],\n",
        "    3: [\"SharpMonie Merchant\"],\n",
        "}\n",
        "\n",
        "# Function to generate a random merchant account number\n",
        "def generate_merchant_account_number():\n",
        "    return \"SPM\" + ''.join(random.choices(string.digits, k=6))\n",
        "\n",
        "# Function to assign accounts to users based on their RoleID\n",
        "def assign_accounts(row):\n",
        "    if row['RoleID'] in account_type_mapping:\n",
        "        if row['RoleID'] == 1:\n",
        "            # For RoleID 1 (Customer), assign a saving account and randomly select KYC level\n",
        "            account_type = random.choice(account_type_mapping[row['RoleID']])\n",
        "            # Use the last 10 digits of the phone number as the account number\n",
        "            account_number = row['PhoneNumber'][-10:]\n",
        "        elif row['RoleID'] == 2:\n",
        "            # For RoleID 2 (Agent), assign an agent account\n",
        "            account_type = account_type_mapping[row['RoleID']][0]\n",
        "            # Agent account number starts with \"02\" followed by 8 random digits\n",
        "            account_number = \"02\" + ''.join(random.choices(string.digits, k=8))\n",
        "        else:\n",
        "            # For RoleID 3 (Merchant), assign a merchant account\n",
        "            account_type = account_type_mapping[row['RoleID']][0]\n",
        "            # Merchant account number starts with \"SPM\" followed by 6 random digits\n",
        "            account_number = generate_merchant_account_number()\n",
        "\n",
        "        return pd.Series([account_type, account_number], index=['AccountType', 'AccountNumber'])\n",
        "    else:\n",
        "        return pd.Series([None, None], index=['AccountType', 'AccountNumber'])\n",
        "\n",
        "# Assign accounts to users based on their RoleID\n",
        "df_user[['AccountType', 'AccountNumber']] = df_user.apply(assign_accounts, axis=1)\n",
        "\n",
        "# Calculate balance limits\n",
        "df_user['BalanceLimit'] = np.where(df_user['RoleID'] == 1, 2000000,\n",
        "                                   np.where(df_user['RoleID'] == 2, 10000000,\n",
        "                                            np.where(df_user['RoleID'] == 3, 20000000, 0)))\n",
        "\n",
        "# Generate random wallet balances\n",
        "df_user['WalletBalance'] = np.random.uniform(0, df_user['BalanceLimit'])\n",
        "\n",
        "# Generate wallet creation date and status\n",
        "df_user['WalletCreationDate'] = df_user['RegistrationDate']\n",
        "df_user['WalletStatus'] = np.random.choice([\"Active\", \"Inactive\"], size=len(df_user), p=[0.995, 0.005])\n",
        "\n",
        "# Create a DataFrame for wallet data\n",
        "wallet_df = df_user[['UserID', 'WalletBalance', 'AccountType', 'AccountNumber', 'WalletCreationDate', 'WalletStatus']]\n",
        "wallet_df.columns = ['UserID', 'Balance', 'WalletType', 'AccountNumber', 'CreationDate', 'Status']\n",
        "\n",
        "# Reset index\n",
        "wallet_df.reset_index(drop=True, inplace=True)\n"
      ]
    },
    {
      "cell_type": "code",
      "execution_count": null,
      "metadata": {
        "id": "3VF5Kkjy8jfT"
      },
      "outputs": [],
      "source": [
        "# Add a WalletID column to the DataFrameDataFrame using .loc\n",
        "\n",
        "wallet_df.loc[:, 'WalletID'] = ['SMW' + str(i) for i in range(1, len(wallet_df) + 1)]\n",
        "\n",
        "# Reorder the columns\n",
        "wallet_df = wallet_df[['WalletID', 'UserID', 'Balance', 'WalletType', 'AccountNumber', 'CreationDate', 'Status']]\n"
      ]
    },
    {
      "cell_type": "code",
      "execution_count": null,
      "metadata": {
        "id": "jCgUKlVcC9PJ"
      },
      "outputs": [],
      "source": [
        "wallet_df"
      ]
    },
    {
      "cell_type": "markdown",
      "metadata": {},
      "source": []
    },
    {
      "cell_type": "code",
      "execution_count": null,
      "metadata": {
        "id": "k6c7FU8VzyQe"
      },
      "outputs": [],
      "source": [
        "wallet_df.groupby(['Status']).count()"
      ]
    },
    {
      "cell_type": "markdown",
      "metadata": {
        "id": "pqwP99bJlX3f"
      },
      "source": [
        "### WALLET TRANSACTIONS"
      ]
    },
    {
      "cell_type": "code",
      "execution_count": null,
      "metadata": {
        "id": "MP-K5OVGS9jp"
      },
      "outputs": [],
      "source": [
        "\n",
        "import datetime\n",
        "\n",
        "# Assuming you have DataFrames for Wallets (wallet_df)\n",
        "\n",
        "# Initialize an empty list to store transaction data\n",
        "transaction_data = []\n",
        "\n",
        "# Define the number of transactions for each wallet based on your desired range\n",
        "num_transactions_per_wallet = [20, 15, 3, 37, 46]  # You can adjust this list as needed\n",
        "\n",
        "# Loop through each wallet and generate the specified number of transactions\n",
        "for index, row in wallet_df.iterrows():\n",
        "    wallet_id = row['WalletID']  # Use the actual Wallet ID from the wallet table\n",
        "    account_type = row['WalletType']\n",
        "    creation_date = row['CreationDate']\n",
        "\n",
        "    # Determine the number of transactions for the current wallet\n",
        "    num_transactions = random.choice(num_transactions_per_wallet)\n",
        "\n",
        "    for _ in range(num_transactions):\n",
        "        transaction_id = len(transaction_data) + 1\n",
        "        transaction_date = random.choice(pd.date_range(start=creation_date, end=datetime.datetime.now()))\n",
        "        transaction_status = random.choices(['Success', 'Pending', 'Failed'], k=1, weights=[0.95, 0.02, 0.03])[0]\n",
        "        \n",
        "        # Define transaction type based on account type\n",
        "        if account_type == \"OPay Merchant\":\n",
        "            transaction_type = random.choices(['Credit', 'Debit'], k=1, weights=[0.8, 0.2])[0]\n",
        "        else:\n",
        "            transaction_type = random.choices(['Credit', 'Debit'], k=1)[0]\n",
        "\n",
        "        # Adjust the amount based on transaction type and account type\n",
        "        if transaction_type == \"Credit\":\n",
        "            amount = round(random.uniform(10, 100000), 2)\n",
        "        else:\n",
        "            if account_type == \"OPay Merchant\":\n",
        "                # For Merchant accounts, debit transactions can be larger\n",
        "                amount = round(random.uniform(1000, 50000), 2)\n",
        "            else:\n",
        "                # For other account types, debit transactions are typical\n",
        "                amount = round(random.uniform(10, 1000), 2)\n",
        "\n",
        "        # Define transaction purposes based on the account type and transaction type\n",
        "        if account_type == \"OPay Merchant\":\n",
        "            # For Merchant accounts, set the purpose as \"Refund\" for debit transactions\n",
        "            transaction_purpose = \"Refund\" if transaction_type == \"Debit\" else random.choice([\"Deposit\"])\n",
        "        else:\n",
        "            # For other accounts, use various purposes\n",
        "            debit_purposes = [\n",
        "                \"Mobile Recharge and Data Purchase\",\n",
        "                \"Bill Payments\",\n",
        "                \"Funds Transfer\",\n",
        "                \"Peer-to-Peer Transactions\",\n",
        "                \"Betting Account Funding\",\n",
        "                \"Withdrawal\"\n",
        "            ]\n",
        "            credit_purposes = [\"Deposit\"]\n",
        "            transaction_purpose = random.choice(debit_purposes) if transaction_type == \"Debit\" else random.choice(credit_purposes)\n",
        "\n",
        "        # Append the transaction data to the list\n",
        "        transaction_data.append([transaction_id, transaction_date, transaction_status, wallet_id, transaction_type, amount, transaction_purpose])\n",
        "\n",
        "    # Print progress for each wallet\n",
        "    print(f\"Generated {num_transactions} transactions for Wallet ID {wallet_id}\")\n",
        "\n",
        "# Create the WalletTransactions DataFrame\n",
        "wallet_transactions_df = pd.DataFrame(transaction_data, columns=[\n",
        "    'TransactionID', 'TransactionDate', 'Status', 'WalletID', 'TransactionType', 'Amount', 'Purpose'\n",
        "])\n"
      ]
    },
    {
      "cell_type": "code",
      "execution_count": null,
      "metadata": {},
      "outputs": [],
      "source": [
        "wallet_transactions_df"
      ]
    },
    {
      "cell_type": "code",
      "execution_count": null,
      "metadata": {},
      "outputs": [],
      "source": [
        "wallet_transactions_df.groupby(['Purpose']).count()"
      ]
    },
    {
      "cell_type": "markdown",
      "metadata": {},
      "source": [
        "## WALLET BALLANCE LOG"
      ]
    },
    {
      "cell_type": "code",
      "execution_count": null,
      "metadata": {
        "id": "8cZLXCXLS5sO"
      },
      "outputs": [],
      "source": [
        "\n",
        "# Initialize an empty list to store balance log data\n",
        "balance_log_data = []\n",
        "\n",
        "# Create an initial balance log for each wallet\n",
        "for _, row in wallet_df.iterrows():\n",
        "    wallet_id = row['WalletID']\n",
        "    creation_date = row['CreationDate']\n",
        "    initial_balance = 0.0  # Starting balance is zero\n",
        "    balance_log_data.append([wallet_id, creation_date, initial_balance])\n",
        "\n",
        "# Sort the balance log data by wallet ID and date\n",
        "balance_log_data.sort(key=lambda x: (x[0], x[1]))\n",
        "\n",
        "# Calculate and update the balance log based on transactions\n",
        "current_balance = {}  # Create a dictionary to keep track of the current balance for each wallet\n",
        "\n",
        "for _, row in wallet_transactions_df.iterrows():\n",
        "    wallet_id = row['WalletID']\n",
        "    transaction_date = row['TransactionDate']\n",
        "    transaction_type = row['TransactionType']\n",
        "    amount = row['Amount']\n",
        "\n",
        "    # Get the current balance for the wallet\n",
        "    if wallet_id not in current_balance:\n",
        "        current_balance[wallet_id] = 0.0  # Initialize balance if not present in the dictionary\n",
        "    balance = current_balance[wallet_id]\n",
        "\n",
        "    # Update balance based on transaction type\n",
        "    if transaction_type == 'Credit':\n",
        "        balance += amount\n",
        "    else:\n",
        "        balance -= amount\n",
        "\n",
        "    # Append the updated balance to the balance log\n",
        "    balance_log_data.append([wallet_id, transaction_date, balance])\n",
        "\n",
        "# Create the WalletBalanceLog DataFrame\n",
        "wallet_balance_log_df = pd.DataFrame(balance_log_data, columns=['WalletID', 'Date', 'Balance'])\n",
        "\n",
        "# Sort the balance log by wallet ID and date\n",
        "wallet_balance_log_df.sort_values(by=['WalletID', 'Date'], inplace=True)\n",
        "\n",
        "# Reset the index\n",
        "wallet_balance_log_df.reset_index(drop=True, inplace=True)\n"
      ]
    },
    {
      "cell_type": "code",
      "execution_count": null,
      "metadata": {
        "id": "qubKNyt_tJnr"
      },
      "outputs": [],
      "source": [
        "wallet_balance_log_df.head(20)"
      ]
    },
    {
      "cell_type": "code",
      "execution_count": null,
      "metadata": {},
      "outputs": [],
      "source": [
        "\n",
        "# Filter transactions for \"Withdrawal\" purpose\n",
        "withdrawal_transactions = wallet_transactions_df[wallet_transactions_df['Purpose'] == 'Withdrawal']\n",
        "\n",
        "# Initialize an empty list to store Withdrawals data\n",
        "withdrawals_data = []\n",
        "\n",
        "# Iterate through Withdrawal transactions and create the Withdrawals table\n",
        "for _, row in withdrawal_transactions.iterrows():\n",
        "    wallet_id = row['WalletID']\n",
        "    amount = row['Amount']\n",
        "    request_date = row['TransactionDate']\n",
        "    status = row['Status']\n",
        "\n",
        "    # Simulate different withdrawal methods (customize as needed)\n",
        "    withdrawal_method = random.choice([\"ATM\", \"Bank Transfer\", \"Cash Pickup\", \"Mobile Wallet\"])\n",
        "\n",
        "    # Append the Withdrawals data to the list\n",
        "    withdrawals_data.append([wallet_id, amount, withdrawal_method, request_date, status])\n",
        "\n",
        "# Create the Withdrawals DataFrame\n",
        "withdrawals_df = pd.DataFrame(withdrawals_data, columns=[\n",
        "    'WalletID', 'Amount', 'WithdrawalMethod', 'RequestDate', 'Status'\n",
        "])\n"
      ]
    },
    {
      "cell_type": "code",
      "execution_count": null,
      "metadata": {},
      "outputs": [],
      "source": [
        "withdrawals_df.groupby(['Status']).count()"
      ]
    },
    {
      "cell_type": "code",
      "execution_count": null,
      "metadata": {},
      "outputs": [],
      "source": [
        "\n",
        "\n",
        "# Filter the transaction table by transaction type \"Funds Transfer\"\n",
        "funds_transfer_df = wallet_transactions_df[wallet_transactions_df['Purpose'] == 'Funds Transfer']\n"
      ]
    },
    {
      "cell_type": "code",
      "execution_count": null,
      "metadata": {},
      "outputs": [],
      "source": [
        "\n",
        "# Create the OtherBank table\n",
        "other_bank_df = pd.DataFrame(columns=['SenderWalletID', 'BankName', 'AccountNumber', 'AccountHolderName', 'Amount', 'TransactionDate'])\n"
      ]
    },
    {
      "cell_type": "code",
      "execution_count": null,
      "metadata": {},
      "outputs": [],
      "source": [
        "\n",
        "# Define Nigerian banks and payment service banks\n",
        "nigerian_banks = [\n",
        "    \"Zenith Bank\",\n",
        "    \"Guaranty Trust Bank (GTBank)\",\n",
        "    \"Access Bank\",\n",
        "    \"First Bank of Nigeria\",\n",
        "    \"United Bank for Africa (UBA)\",\n",
        "    \"Ecobank Nigeria\",\n",
        "    \"Diamond Bank (Acquired by Access Bank)\",\n",
        "    \"Fidelity Bank\",\n",
        "    \"Stanbic IBTC Bank\",\n",
        "    \"Union Bank of Nigeria\",\n",
        "    \"Wema Bank\",\n",
        "    \"Heritage Bank\",\n",
        "    \"Sterling Bank\",\n",
        "    \"Polaris Bank\",\n",
        "    \"Keystone Bank\"\n",
        "]\n",
        "\n",
        "payment_service_banks = [\n",
        "    \"Opay\",\n",
        "    \"Kuda Bank\",\n",
        "    \"Carbon (formerly Paylater)\",\n",
        "    \"9PSB (Nigeria Postal Service Bank)\",\n",
        "    \"Specta by Sterling\",\n",
        "    \"Gomoney\",\n",
        "    \"Eyowo\",\n",
        "    \"FairMoney\",\n",
        "    \"Nuban by FCMB\",\n",
        "    \"V by VFD Microfinance Bank\",\n",
        "    \"Mint by FinTechNG\"\n",
        "]\n"
      ]
    },
    {
      "cell_type": "code",
      "execution_count": null,
      "metadata": {},
      "outputs": [],
      "source": [
        "# Iterate through filtered funds transfer transactions and extract relevant information\n",
        "for _, row in funds_transfer_df.iterrows():\n",
        "    sender_wallet_id = row['WalletID']\n",
        "    bank_name = random.choice(nigerian_banks + payment_service_banks)\n",
        "    account_number = ''.join(random.choices('0123456789', k=10))  # Generate a random 10-digit account number\n",
        "    account_holder_name = generate_nigerian_names()  # Use the generated Nigerian name\n",
        "    amount = row['Amount']\n",
        "    transaction_date = row['TransactionDate']\n",
        "\n",
        "    # Append the data to the OtherBank table\n",
        "    other_bank_df = pd.concat([other_bank_df, pd.DataFrame({'SenderWalletID': [sender_wallet_id],\n",
        "                                                           'BankName': [bank_name],\n",
        "                                                           'AccountNumber': [account_number],\n",
        "                                                           'AccountHolderName': [account_holder_name],\n",
        "                                                           'Amount': [amount],\n",
        "                                                           'TransactionDate': [transaction_date]})], ignore_index=True)\n",
        "\n"
      ]
    },
    {
      "cell_type": "code",
      "execution_count": null,
      "metadata": {},
      "outputs": [],
      "source": [
        "other_bank_df"
      ]
    },
    {
      "cell_type": "code",
      "execution_count": null,
      "metadata": {},
      "outputs": [],
      "source": [
        "\n",
        "\n",
        "# Filter transactions for \"Deposit\" purpose\n",
        "deposit_transactions = wallet_transactions_df[wallet_transactions_df['Purpose'] == 'Deposit']\n",
        "\n",
        "# Initialize an empty list to store deposit data\n",
        "deposit_data = []\n",
        "\n",
        "# Iterate through deposit transactions and create the Deposits table\n",
        "for _, row in deposit_transactions.iterrows():\n",
        "    deposit_id = len(deposit_data) + 1\n",
        "    wallet_deposited_to = row['WalletID']\n",
        "    amount = row['Amount']\n",
        "    deposit_date = row['TransactionDate']\n",
        "    status = row['Status']\n",
        "\n",
        "    deposit_data.append([deposit_id, wallet_deposited_to, amount, deposit_date, status])\n",
        "\n",
        "# Create the Deposits DataFrame\n",
        "deposits_df = pd.DataFrame(deposit_data, columns=['DepositID', 'WalletDepositedTo', 'Amount', 'DepositDate', 'Status'])\n"
      ]
    },
    {
      "cell_type": "code",
      "execution_count": null,
      "metadata": {},
      "outputs": [],
      "source": [
        "deposits_df"
      ]
    },
    {
      "cell_type": "code",
      "execution_count": null,
      "metadata": {},
      "outputs": [],
      "source": [
        "\n",
        "# Initialize an empty list to store P2P transactions\n",
        "p2p_data = []\n",
        "\n",
        "# Filter transactions for \"Peer-to-Peer\" purpose\n",
        "p2p_transactions = wallet_transactions_df[wallet_transactions_df['Purpose'] == 'Peer-to-Peer Transactions']"
      ]
    },
    {
      "cell_type": "code",
      "execution_count": null,
      "metadata": {},
      "outputs": [],
      "source": [
        "\n",
        "\n",
        "# Iterate through P2P transactions and create the P2P table\n",
        "for _, sender_row in p2p_transactions.iterrows():\n",
        "    sender_wallet_id = sender_row['WalletID']\n",
        "    sender_transaction_date = sender_row['TransactionDate']\n",
        "    sender_amount = sender_row['Amount']\n",
        "    # Filter transactions for the same purpose and find potential receivers\n",
        "    potential_receivers = wallet_transactions_df[\n",
        "        (wallet_transactions_df['Purpose'] == 'Peer-to-Peer Transactions') &\n",
        "        (wallet_transactions_df['WalletID'] != sender_wallet_id)\n",
        "    ]\n",
        "\n",
        "    # Convert potential_receivers to a list of rows\n",
        "    potential_receivers_list = potential_receivers.to_records(index=False)\n",
        "\n",
        "    # Randomly select a receiver and generate a P2P transaction\n",
        "    if len(potential_receivers_list) > 0:\n",
        "        receiver_row = random.choice(potential_receivers_list)\n",
        "        receiver_wallet_id = receiver_row['WalletID']\n",
        "        receiver_transaction_date = receiver_row['TransactionDate']\n",
        "        receiver_amount = receiver_row['Amount']\n",
        "\n",
        "        # Create P2P transactions\n",
        "        p2p_data.append([sender_wallet_id, receiver_wallet_id, sender_amount, sender_transaction_date])\n",
        "        p2p_data.append([receiver_wallet_id, sender_wallet_id, receiver_amount, receiver_transaction_date])\n",
        "        \n",
        "\n",
        "\n",
        "# Create the P2P DataFrame\n",
        "p2p_df = pd.DataFrame(p2p_data, columns=['SenderWalletID', 'ReceiverWalletID', 'Amount', 'TransactionDate'])\n",
        "\n"
      ]
    },
    {
      "cell_type": "code",
      "execution_count": null,
      "metadata": {},
      "outputs": [],
      "source": [
        "p2p_df"
      ]
    },
    {
      "cell_type": "code",
      "execution_count": null,
      "metadata": {},
      "outputs": [],
      "source": [
        "betting_provider_df=pd.read_csv('.\\\\Bootcamp-Data\\\\betting_provider.csv')"
      ]
    },
    {
      "cell_type": "code",
      "execution_count": null,
      "metadata": {},
      "outputs": [],
      "source": [
        "\n",
        "\n",
        "# Filter transactions for \"Betting Account Funding\" purpose\n",
        "betting_transactions = wallet_transactions_df[wallet_transactions_df['Purpose'] == 'Betting Account Funding']\n",
        "\n",
        "# Initialize an empty list to store Betting Account Funding data\n",
        "betting_data = []\n",
        "\n",
        "# Iterate through betting transactions and create the Betting Account Funding table\n",
        "for _, row in betting_transactions.iterrows():\n",
        "    account_id = f'BA{len(betting_data) + 1}'\n",
        "    # Randomly select a provider from the BettingProvider table\n",
        "    provider_id = random.choice(betting_provider_df['ProviderID'])\n",
        "    wallet_id = row['WalletID']\n",
        "    # Generate a random account number\n",
        "    account_number = ''.join(random.choices(string.digits, k=10))\n",
        "    amount = row['Amount']\n",
        "    transaction_date = row['TransactionDate']\n",
        "\n",
        "    betting_data.append([account_id, provider_id, wallet_id, account_number, amount, transaction_date])\n",
        "\n",
        "# Create the Betting Account Funding DataFrame\n",
        "betting_account_history_df = pd.DataFrame(betting_data, columns=['AccountID', 'ProviderID', 'WalletID', 'AccountNumber', 'Amount', 'TransactionDate'])\n"
      ]
    },
    {
      "cell_type": "code",
      "execution_count": null,
      "metadata": {},
      "outputs": [],
      "source": [
        "betting_account_history_df"
      ]
    },
    {
      "cell_type": "code",
      "execution_count": null,
      "metadata": {},
      "outputs": [],
      "source": []
    },
    {
      "cell_type": "code",
      "execution_count": null,
      "metadata": {},
      "outputs": [],
      "source": [
        "df_user.groupby(['RoleID']).count()"
      ]
    },
    {
      "cell_type": "code",
      "execution_count": null,
      "metadata": {},
      "outputs": [],
      "source": [
        "\n",
        "\n",
        "def generate_unique_agent_code(agent_codes):\n",
        "    while True:\n",
        "        agent_code = fake.random_int(min=1000, max=9999)\n",
        "        if agent_code not in agent_codes:\n",
        "            agent_codes.add(agent_code)\n",
        "            return f'SMA{agent_code}'\n",
        "\n",
        "\n",
        "# Define your generate_gender and generate_nigerian_address functions here\n",
        "\n",
        "# Filter the DataFrame to get users with RoleID = 2\n",
        "df_agent = df_user[df_user['RoleID'] == 2]\n",
        "\n",
        "agent_data = []\n",
        "agent_codes = set()\n",
        "\n",
        "for user_id in df_agent['UserID']:\n",
        "    agent_code = generate_unique_agent_code(agent_codes)\n",
        "    bvn = generate_unique_bvn(used_bvns)\n",
        "    gender = generate_gender()  # Use your generate_gender function here\n",
        "    dob = fake.date_of_birth(minimum_age=18, maximum_age=70)\n",
        "    address = generate_nigerian_address()  # Use your generate_nigerian_address function here\n",
        "    agent_data.append((agent_code, bvn, user_id, gender, address, dob))\n",
        "\n",
        "# Create a DataFrame from agent_data\n",
        "df_agent = pd.DataFrame(agent_data, columns=['AgentCode', 'BVN', 'UserID', 'Gender', 'Address', 'DateOfBirth'])\n",
        "\n"
      ]
    },
    {
      "cell_type": "code",
      "execution_count": null,
      "metadata": {},
      "outputs": [],
      "source": [
        "df_agent"
      ]
    },
    {
      "cell_type": "code",
      "execution_count": null,
      "metadata": {},
      "outputs": [],
      "source": [
        "\n",
        "data = {\n",
        "    'ServiceID': [1, 2, 3, 4, 5, 6, 7, 8],\n",
        "    'ServiceName': [\n",
        "        'Cash Deposits and Withdrawals',\n",
        "        'Fund Transfers',\n",
        "        'Bill Payments',\n",
        "        'Customer Onboarding',\n",
        "        'Transaction Processing',\n",
        "        'Cash Management',\n",
        "        'Marketing and Sales Assistance',\n",
        "        'POS Operations'\n",
        "    ]\n",
        "}\n",
        "\n",
        "df_agent_services= pd.DataFrame(data)\n"
      ]
    },
    {
      "cell_type": "code",
      "execution_count": null,
      "metadata": {},
      "outputs": [],
      "source": [
        "\n",
        "\n",
        "# Filter the Wallet table by 'SharpMonie Agent'\n",
        "agent_wallets = wallet_df[wallet_df['WalletType'] == 'SharpMonie Agent']\n",
        "\n",
        "# Join the filtered Wallets with WalletTransactions\n",
        "agent_wallet_transactions = pd.merge(agent_wallets, wallet_transactions_df, on='WalletID')\n",
        "\n",
        "# Join the result with the Agent table on User ID\n",
        "agent_transactions_with_user = pd.merge(agent_wallet_transactions, df_agent, left_on='UserID', right_on='UserID')\n",
        "\n",
        "service_weights = [0.6, 0.41, 0.79, 0.3, 0.4, 1, 1.5, 5]  # ServiceID 8 appears twice as often\n",
        "\n",
        "# Randomly select a service from df_agent_services with weights\n",
        "services = df_agent_services['ServiceID'].tolist()\n",
        "agent_transactions_with_user['ServiceID'] = [random.choices(services, weights=service_weights)[0] for _ in range(len(agent_transactions_with_user))]\n",
        "\n",
        "# Select and derive the relevant columns to create the AgentTransaction table\n",
        "agent_transaction_data = {\n",
        "    'TransactionID': agent_transactions_with_user['TransactionID'],\n",
        "    'AgentID': agent_transactions_with_user['AgentCode'],\n",
        "    'ServiceID': agent_transactions_with_user['ServiceID'],\n",
        "    'Amount': agent_transactions_with_user['Amount'],\n",
        "    'TransactionDate': agent_transactions_with_user['TransactionDate'],\n",
        "    'WalletID': agent_transactions_with_user['WalletID'],\n",
        "}\n",
        "\n",
        "# Create the AgentTransaction DataFrame\n",
        "agent_transaction_df = pd.DataFrame(agent_transaction_data)\n",
        "\n",
        "# You now have the AgentTransaction table with the required columns, and the ServiceID is randomly selected.\n"
      ]
    },
    {
      "cell_type": "code",
      "execution_count": null,
      "metadata": {},
      "outputs": [],
      "source": [
        "agent_transaction_df.groupby(['ServiceID']).count()"
      ]
    },
    {
      "cell_type": "code",
      "execution_count": null,
      "metadata": {},
      "outputs": [],
      "source": [
        "\n",
        "\n",
        "# Define the list of terminal names and generate terminal IDs\n",
        "terminal_names = ['SharpMonie']\n",
        "terminal_ids = []\n",
        "\n",
        "# Initialize an empty list to store POSTerminals data\n",
        "posterminal_data = []\n",
        "\n",
        "# Iterate through agents to assign terminals\n",
        "for _, agent_row in df_agent.iterrows():\n",
        "    agent_id = agent_row['AgentCode']\n",
        "    num_terminals = random.randint(1,5)  # Randomly select 1 to 4 terminals for each agent\n",
        "\n",
        "    for i in range(num_terminals):\n",
        "        # Generate a unique terminal ID\n",
        "        terminal_id = f\"Terminal{random.randint(1, 10000)}\"\n",
        "        terminal_ids.append(terminal_id)\n",
        "\n",
        "        # Assign the terminal to the agent\n",
        "        terminal_name = random.choice(terminal_names)\n",
        "        posterminal_data.append([terminal_id, terminal_name, agent_id])\n",
        "\n",
        "# POSTerminals DataFrame\n",
        "posterminal_df = pd.DataFrame(posterminal_data, columns=['POSTerminalID', 'TerminalName', 'AgentID'])\n"
      ]
    },
    {
      "cell_type": "code",
      "execution_count": null,
      "metadata": {},
      "outputs": [],
      "source": [
        "posterminal_df"
      ]
    },
    {
      "cell_type": "code",
      "execution_count": null,
      "metadata": {},
      "outputs": [],
      "source": [
        "\n",
        "\n",
        "# Define the opay_pos_transaction_activities\n",
        "opay_pos_transaction_activities = [\n",
        "    \"Bill Payments\",\n",
        "    \"Airtime Top-Up\",\n",
        "    \"Fund Transfer\",\n",
        "    \"Withdrawals\",\n",
        "    \"Balance Inquiry\",\n",
        "    \"Mini-Statement\"\n",
        "]\n",
        "\n",
        "# Filter the AgentTransaction table by ServiceID = 8\n",
        "filtered_agent_transactions = agent_transaction_df[agent_transaction_df['ServiceID'] == 8]"
      ]
    },
    {
      "cell_type": "code",
      "execution_count": null,
      "metadata": {},
      "outputs": [],
      "source": [
        "filtered_agent_transactions"
      ]
    },
    {
      "cell_type": "code",
      "execution_count": null,
      "metadata": {},
      "outputs": [],
      "source": [
        "post_transaction_data = []\n",
        "\n",
        "# Iterate through the filtered transactions to create POSTransactions\n",
        "for _, transaction_row in filtered_agent_transactions.iterrows():\n",
        "    terminal_id = random.choice(posterminal_df['POSTerminalID'])\n",
        "    amount = transaction_row['Amount']\n",
        "    transaction_date = transaction_row['TransactionDate']\n",
        "    service_type = random.choice(opay_pos_transaction_activities)\n",
        "\n",
        "    # Append the POSTransaction data to the list\n",
        "    post_transaction_data.append([terminal_id, amount, transaction_date, service_type])\n",
        "\n",
        "# Create the POSTransaction DataFrame\n",
        "post_transaction_df = pd.DataFrame(post_transaction_data, columns=['POSTerminalID', 'Amount', 'TransactionDate', 'ServiceType'])\n"
      ]
    },
    {
      "cell_type": "code",
      "execution_count": null,
      "metadata": {},
      "outputs": [],
      "source": [
        "post_transaction_df"
      ]
    },
    {
      "cell_type": "code",
      "execution_count": null,
      "metadata": {},
      "outputs": [],
      "source": [
        "\n",
        "\n",
        "# Initialize an empty list to store onboarding data\n",
        "onboarding_data = []\n",
        "\n",
        "# Iterate through agents and customers to simulate onboarding\n",
        "for _, agent_row in df_agent.iterrows():\n",
        "    agent_id = agent_row['AgentCode']\n",
        "    \n",
        "    # Simulate the possibility of an agent onboarding multiple customers\n",
        "    num_customers_onboarded = random.randint(0, 5)  # Adjust the range as needed\n",
        "    \n",
        "    # Randomly select customers they onboard\n",
        "    onboarded_customers = random.sample(df_customer['CustomerID'].tolist(), num_customers_onboarded)\n",
        "    \n",
        "    for customer_id in onboarded_customers:\n",
        "        onboarding_data.append([None, agent_id, customer_id])\n",
        "\n",
        "# Create the OnboardingCustomer DataFrame\n",
        "onboarding_df = pd.DataFrame(onboarding_data, columns=[\n",
        "    'OnboardingID', 'AgentID', 'CustomerID'\n",
        "])\n",
        "\n",
        "# Assign unique OnboardingIDs\n",
        "onboarding_df['OnboardingID'] = range(1, len(onboarding_df) + 1)\n"
      ]
    },
    {
      "cell_type": "code",
      "execution_count": null,
      "metadata": {},
      "outputs": [],
      "source": [
        "onboarding_df.groupby(['AgentID']).count()"
      ]
    },
    {
      "cell_type": "code",
      "execution_count": null,
      "metadata": {},
      "outputs": [],
      "source": [
        "df_merchant=pd.read_csv('.\\\\Bootcamp-Data\\\\betting_provider.csv')"
      ]
    },
    {
      "cell_type": "code",
      "execution_count": null,
      "metadata": {},
      "outputs": [],
      "source": [
        "df_merchant"
      ]
    },
    {
      "cell_type": "code",
      "execution_count": null,
      "metadata": {},
      "outputs": [],
      "source": [
        "\n",
        "\n",
        "# Define the verification types and statuses for different roles\n",
        "verification_types = {\n",
        "    1: [\"ID Verification\", \"Address Verification\", \"Photo Verification\"],\n",
        "    2: [\"Agent ID Verification\", \"License Verification\", \"Background Check\"],\n",
        "    3: [\"Business Registration\", \"Tax Certificate Verification\", \"Ownership Verification\"]\n",
        "}\n",
        "\n",
        "verification_statuses = [\"Pending\", \"Approved\", \"Rejected\"]\n",
        "\n",
        "# Initialize an empty list to store user verification data\n",
        "user_verification_data = []\n",
        "\n",
        "# Iterate through users and simulate the verification process\n",
        "for _, user_row in df_user.iterrows():\n",
        "    user_id = user_row['UserID']\n",
        "    role_id = user_row['RoleID']\n",
        "    verification_type = random.choice(verification_types.get(role_id, []))  # Select verification type based on role\n",
        "    verification_status = random.choice(verification_statuses)\n",
        "    verification_date = user_row['RegistrationDate']  # Assume verification date is the same as registration date\n",
        "    approval_date = None\n",
        "    rejection_date = None\n",
        "    verification_attempts = random.randint(1, 3)  # Simulate 1 to 3 verification attempts\n",
        "    status = random.choice([\"Active\", \"Inactive\"])\n",
        "\n",
        "    # Set approval and rejection dates based on verification status\n",
        "    if verification_status == \"Approved\":\n",
        "        approval_date = verification_date + datetime.timedelta(days=random.randint(1, 30))\n",
        "    elif verification_status == \"Rejected\":\n",
        "        rejection_date = verification_date + datetime.timedelta(days=random.randint(1, 7))\n",
        "\n",
        "    user_verification_data.append([\n",
        "        None, user_id, verification_type, verification_status,\n",
        "        verification_date, approval_date, rejection_date, verification_attempts, status\n",
        "    ])\n",
        "\n",
        "# Create the UserVerification DataFrame\n",
        "user_verification_df = pd.DataFrame(user_verification_data, columns=[\n",
        "    'ID', 'UserID', 'VerificationType', 'VerificationStatus',\n",
        "    'VerificationDate', 'ApprovalDate', 'RejectionDate',\n",
        "    'VerificationAttempts', 'Status'\n",
        "])\n",
        "\n",
        "# Assign unique IDs\n",
        "user_verification_df['ID'] = range(1, len(user_verification_df) + 1)\n"
      ]
    },
    {
      "cell_type": "code",
      "execution_count": null,
      "metadata": {},
      "outputs": [],
      "source": [
        "user_verification_df"
      ]
    },
    {
      "cell_type": "code",
      "execution_count": null,
      "metadata": {},
      "outputs": [],
      "source": [
        "\n",
        "\n",
        "# Define the fraction of agents functioning as businesses (adjust as needed)\n",
        "fraction_of_business_agents = 0.3  # 30% of agents function as businesses\n",
        "\n",
        "# Initialize an empty list to store agent-business data\n",
        "agent_business_data = []\n",
        "\n",
        "# Iterate through agents to simulate agent-business relationships\n",
        "for _, agent_row in df_agent.iterrows():\n",
        "    agent_code = agent_row['AgentCode']\n",
        "    \n",
        "    # Simulate whether the agent functions as a business or not\n",
        "    is_business = random.random() < fraction_of_business_agents\n",
        "    \n",
        "    if is_business:\n",
        "        # If the agent functions as a business, select a random merchant code\n",
        "        merchant_code = random.choice(df_merchant['MerchantCode'].tolist())\n",
        "        agent_business_data.append([None, agent_code, merchant_code])\n",
        "    else:\n",
        "        # If the agent functions as an agent, leave the merchant code as None\n",
        "        agent_business_data.append([None, agent_code, None])\n",
        "\n",
        "# Create the AgentBusiness DataFrame\n",
        "agent_business_df = pd.DataFrame(agent_business_data, columns=[\n",
        "    'UniqueID', 'AgentCode', 'MerchantCode'\n",
        "])\n",
        "\n",
        "# Assign unique UniqueIDs\n",
        "agent_business_df['UniqueID'] = range(1, len(agent_business_df) + 1)\n"
      ]
    },
    {
      "cell_type": "markdown",
      "metadata": {
        "id": "4YBggwDTld01"
      },
      "source": [
        "### MERCHANT"
      ]
    },
    {
      "cell_type": "code",
      "execution_count": null,
      "metadata": {},
      "outputs": [],
      "source": []
    },
    {
      "cell_type": "code",
      "execution_count": null,
      "metadata": {
        "id": "3BmIaDLW381j"
      },
      "outputs": [],
      "source": [
        "user_roleid3 = df_user[df_user['RoleID']==3]"
      ]
    },
    {
      "cell_type": "code",
      "execution_count": null,
      "metadata": {
        "id": "pIjwW5H5ozIT"
      },
      "outputs": [],
      "source": [
        "user_roleid3.shape"
      ]
    },
    {
      "cell_type": "code",
      "execution_count": null,
      "metadata": {
        "id": "NzSNki3a4ohx"
      },
      "outputs": [],
      "source": [
        "user_roleid3.head(2)"
      ]
    },
    {
      "cell_type": "code",
      "execution_count": null,
      "metadata": {
        "id": "K4O0cuCVsQTI"
      },
      "outputs": [],
      "source": [
        "f'Total number of duplicated merchant record is: {sum(user_roleid3.duplicated())}'"
      ]
    },
    {
      "cell_type": "code",
      "execution_count": null,
      "metadata": {
        "id": "j8n1ZU5DpDCO"
      },
      "outputs": [],
      "source": [
        "# get 5 hopitals from each of lagos, kano and PH\n",
        "url = 'https://en.wikipedia.org/wiki/List_of_hospitals_in_'\n",
        "states = ['Kano', 'Lagos', 'Port_Harcourt']\n",
        "hospitals = []\n",
        "for state in states:\n",
        "  hospital_df = pd.read_html(url+states[0])[0]\n",
        "hospitals += list(hospital_df['Name'].values[:5])\n",
        "\n",
        "supermarket = ['FoodCo', 'Addide', 'Game Stores', 'Jara Superstore', 'Shoprite',\n",
        "               'Spar', 'Ace']\n",
        "\n",
        "non_profit = ['AFRICA HOPE ALIVE INITIATIVE', 'AFRICOMMUNITY TECHNOLOGY DEVELOPMENT CENTER',\n",
        "              'ANNABELLES BOGI DEVELOPMENT INITIATIVE (ABDI)', 'ASA-AMATOR AMATEUR WOMEN COUNCIL',\n",
        "              'CITY TAKERS NETWORK', 'DCOM WORD ACADEMY', 'ANPEZ CENTRE FOR ENVIRONMENT AND DEVELOPMENT',\n",
        "              'RED CROSS AKUKU', 'SAVE YOUR LIVER FOUNDATION OF NIGERIA', 'UNITED CITIZENS CONSULTATIVE INITIATIVE',\n",
        "              'WHISTLEBLOWERS INTERNATIONAL FOUNDATION', ]\n",
        "\n",
        "restaurant = ['The Yellow Chilli Restaurant & Bar', 'Cactus', ' Bungalow',\n",
        "              'Sherlaton Indian', 'Chocolat Royal', 'Spice Route',\n",
        "              'Jevinik Restaurant', ' Johnny Rockets', ' Glover Court Suya Spot',\n",
        "              ' Sabor Lagos', 'New China Restaurant', 'Dominos Pizza Nigeria']\n",
        "\n",
        "transportation = ['Uber', 'Bolt', 'Cabify', 'Gett', 'Careem', 'Via', 'Wings']\n",
        "\n",
        "hospitality = ['Lagos Food Bank Initiative', 'Education as a Vaccine (EVA)',\n",
        "               'The Irede Foundation', 'Yinka Shonibare Foundation', 'Amaudo UK'\n",
        "               'Bisi Alimi Foundation']\n",
        "\n",
        "telecommunication = ['MTN', 'Airtel', '9 Mobile', 'GLO']\n",
        "\n",
        "\n",
        "subscription = ['DSTV', 'Startimes', 'GoTV', 'Kwase']\n",
        "\n",
        "exam  = ['JAMB', 'WAEC']\n",
        "\n",
        "museaum = ['National Museum', 'Nike Art Galary', 'Badagry Heritage Museum',\n",
        "           'National Museum, Ife', \"Odu'a Museum and Hall of Fame\"]\n",
        "\n",
        "schools = ['Unilag', 'UI', 'Uniben', 'OAU', 'Conenant', 'Bowen',\n",
        "           'Uniben', 'FUTA', 'FUTO']\n",
        "\n",
        "ecommerce = ['Jumia', 'SLOT.ng', 'Asos', 'Konga', '3cHub', 'Jiji.ng',\n",
        "            'Karra', 'Yudala', 'Printivo Store', 'Obiwezy', 'PayPorte',\n",
        "             'Ajebomarket', 'Kusnap']\n",
        "\n",
        "power = ['EKEDC', 'AEDC', 'PHED', 'Kaduna Electric', 'Abuja Electricity Distribution Plc',\n",
        "         'Shiroro', 'Benin Electricity Distribution Plc', 'Jos Electricity Distribution Plc',\n",
        "         'Ibadan Electricity Distribution Plc', 'Enugu Electricity Distribution Plc',\n",
        "         ]\n",
        "\n",
        "airlines = ['Arik Air', 'Chanchangi Airlines', 'Dana Air', 'Kabo Air']\n",
        "\n",
        "industrial = ['Dangote', 'Flour Mills', 'Nigeria Breweries', 'Nestle Nigeria',\n",
        "              'BUA CEMENT PLC', 'Lafarge Africa PLC', 'ARDOVA PLC', 'GUINNESS NIGERIA PLC',\n",
        "              'SEVEN-UP BOTTLING CO. LIMITED', 'HONEYWELL FLOUR MILLS PLC',\n",
        "              'CONOIL PLC', 'UNILEVER NIGERIA PLC', 'STALLION NIGERIA LIMITED',\n",
        "              'JMG LIMITED', 'CADBURY NIGERIA PLC']\n",
        "\n",
        "merchant_industry_dict = {'Retails':supermarket,\n",
        "                          'Restaurants':restaurant,\n",
        "                          'Transportations': transportation,\n",
        "                          \"Telecommunications\": telecommunication,\n",
        "                          'E-Commerce': ecommerce,\n",
        "                          'TV Subscriptions':subscription,\n",
        "                          'Healths': hospitals,\n",
        "                          'Educations': schools,\n",
        "                          'Exam': exam,\n",
        "                          'Hospitalitys': museaum,\n",
        "                          'Airlines': airlines,\n",
        "                          'Industrial': industrial,\n",
        "                          'Power': power}\n"
      ]
    },
    {
      "cell_type": "code",
      "execution_count": null,
      "metadata": {
        "id": "I6Dj-ExLFbnN"
      },
      "outputs": [],
      "source": [
        "def merchant_email_generator(contact_name, merchant_industry, merchant_name):\n",
        "  domain_ext = {'Retail': '.mall.ng',\n",
        "          'Restaurant': '.food',\n",
        "          'Transportations': '.travel',\n",
        "          'TV Subscriptions': \".tv\",\n",
        "          'Healths': '.healthcare',\n",
        "          'Exam': \".org\",\n",
        "          'E-Commerce': '.ng',\n",
        "          'Educations': \".edu.ng\",\n",
        "          'Hospitalitys': '.museum',\n",
        "          'Airlines': '.airline.com',\n",
        "          'Power': '.power.com'}\n",
        "\n",
        "  email_prefix = contact_name.lower()\n",
        "\n",
        "  if type(merchant_name) == str:\n",
        "    merchant_name = merchant_name.split()[0].lower()\n",
        "  else:\n",
        "    merchant_name = 'gmail'\n",
        "\n",
        "  email_extension = \"\"\n",
        "\n",
        "  if merchant_industry in domain_ext:\n",
        "    email_extension = domain_ext[merchant_industry]\n",
        "  else:\n",
        "    email_extension = '.com'\n",
        "  email = f\"{email_prefix}@{merchant_name}{email_extension}\"\n",
        "\n",
        "  return email.lower()"
      ]
    },
    {
      "cell_type": "code",
      "execution_count": null,
      "metadata": {
        "id": "DssWGMxx0FeU"
      },
      "outputs": [],
      "source": [
        "# how many industries do we have in total\n",
        "total = 0\n",
        "for k, v in merchant_industry_dict.items():\n",
        "  total += len(v)\n",
        "\n",
        "total"
      ]
    },
    {
      "cell_type": "code",
      "execution_count": null,
      "metadata": {
        "id": "ZWqqXEuPR2Kr"
      },
      "outputs": [],
      "source": [
        "user_roleid3.shape[0], len(user_roleid3.FirstName.values)"
      ]
    },
    {
      "cell_type": "code",
      "execution_count": null,
      "metadata": {
        "id": "Ik8ECs8iSfb7"
      },
      "outputs": [],
      "source": [
        "industry_companies_contact = []\n",
        "first_names = list(user_roleid3.FirstName.values)\n",
        "last_names = list(user_roleid3.LastName.values)\n",
        "\n",
        "i = 0\n",
        "total -= 1\n",
        "\n",
        "while i < user_roleid3.shape[0]:\n",
        "  if i  < total:\n",
        "    for k, vals in merchant_industry_dict.items():\n",
        "      for v in vals:\n",
        "        num = random.choice(range(100, 1000))\n",
        "        full_name = str(first_names[i]) + '.' + str(last_names[i]) + str(num)\n",
        "        industry_companies_contact.append((k, v, full_name))\n",
        "        i += 1\n",
        "  else:\n",
        "    full_name = str(first_names[i]) + '.' + str(last_names[i]) + str(num)\n",
        "    industry_companies_contact.append((np.nan, np.nan, full_name))\n",
        "    i += 1\n",
        "\n",
        "user_roleid3.shape[0], len(industry_companies_contact)"
      ]
    },
    {
      "cell_type": "code",
      "execution_count": null,
      "metadata": {
        "id": "C9QBHl1vCXdB"
      },
      "outputs": [],
      "source": [
        "# random.seed(500)\n",
        "# random.shuffle(industry_companies_contact)"
      ]
    },
    {
      "cell_type": "code",
      "execution_count": null,
      "metadata": {
        "id": "VOAyq3prBpUF"
      },
      "outputs": [],
      "source": [
        "user_roleid3.columns"
      ]
    },
    {
      "cell_type": "code",
      "execution_count": null,
      "metadata": {
        "id": "fhGK_BiFqVyX"
      },
      "outputs": [],
      "source": [
        "merchant_df = user_roleid3[['UserID']]"
      ]
    },
    {
      "cell_type": "code",
      "execution_count": null,
      "metadata": {
        "id": "auQ-WArDiRkE"
      },
      "outputs": [],
      "source": [
        "industry_companies_contact[-6:-2]"
      ]
    },
    {
      "cell_type": "code",
      "execution_count": null,
      "metadata": {
        "id": "sWCLwo6wDzvv"
      },
      "outputs": [],
      "source": [
        "industries = []\n",
        "companies = []\n",
        "email = []\n",
        "\n",
        "for industry, company, contact_name in industry_companies_contact:\n",
        "  industries.append(industry)\n",
        "  companies.append(company)\n",
        "  email.append(merchant_email_generator(contact_name, industry, company))"
      ]
    },
    {
      "cell_type": "code",
      "execution_count": null,
      "metadata": {
        "id": "s1vZyS8YCDxm"
      },
      "outputs": [],
      "source": [
        "merchant_df['MerchantName'] = companies\n",
        "merchant_df['MerchantIndustry'] = industries\n",
        "merchant_df['Email'] = email"
      ]
    },
    {
      "cell_type": "code",
      "execution_count": null,
      "metadata": {
        "id": "-rECqUFKGSAs"
      },
      "outputs": [],
      "source": [
        "merchant_df.reset_index(inplace=True, drop=True)\n",
        "merchant_df.head()"
      ]
    },
    {
      "cell_type": "markdown",
      "metadata": {
        "id": "HG5F1dw8ttxn"
      },
      "source": [
        "\n",
        "\n",
        "```\n",
        "# This is formatted as code\n",
        "```\n",
        "\n",
        "### UPDATE THE USER TABLE WITH MERCHANTS EMAIL"
      ]
    },
    {
      "cell_type": "code",
      "execution_count": null,
      "metadata": {
        "id": "uRpm7RvivC5A"
      },
      "outputs": [],
      "source": [
        "merchant_df[merchant_df['UserID']==46]['Email'].values[0]"
      ]
    },
    {
      "cell_type": "code",
      "execution_count": null,
      "metadata": {
        "id": "3Y_PiRjujlmO"
      },
      "outputs": [],
      "source": [
        "merchants_user_id = merchant_df['UserID'].values\n",
        "merchants_user_id"
      ]
    },
    {
      "cell_type": "code",
      "execution_count": null,
      "metadata": {
        "id": "7fQ_0TsuvkKo"
      },
      "outputs": [],
      "source": [
        "df_user[df_user['RoleID'] == 3]['Email'].values"
      ]
    },
    {
      "cell_type": "code",
      "execution_count": null,
      "metadata": {
        "id": "AzI7fLKFnCZn"
      },
      "outputs": [],
      "source": [
        "for user_id in merchants_user_id:\n",
        "  merchant_email = merchant_df[merchant_df['UserID']==user_id]['Email'].values[0]\n",
        "  df_user.iloc[user_id-1, 3] = merchant_email"
      ]
    },
    {
      "cell_type": "code",
      "execution_count": null,
      "metadata": {
        "id": "y4FusnkVrJig"
      },
      "outputs": [],
      "source": [
        "df_user[df_user['RoleID'] == 3].head()"
      ]
    },
    {
      "cell_type": "markdown",
      "metadata": {
        "id": "ytFMjrza10sI"
      },
      "source": [
        "### Betting Provier"
      ]
    },
    {
      "cell_type": "code",
      "execution_count": null,
      "metadata": {
        "id": "kcVzSTMYGZ76"
      },
      "outputs": [],
      "source": [
        "# get table of betting companies in Nigeria\n",
        "url = 'https://punchng.com/betting/bookmakers/best-betting-sites-in-nigeria/'\n",
        "result = pd.read_html(url)[0]"
      ]
    },
    {
      "cell_type": "code",
      "execution_count": null,
      "metadata": {
        "id": "PhMQSmAp2AhY"
      },
      "outputs": [],
      "source": [
        "betting_provider_df = pd.DataFrame({\"ProviderID\":list(range(1, result.shape[0]+1)), 'ProviderName':result.Operator})"
      ]
    },
    {
      "cell_type": "code",
      "execution_count": null,
      "metadata": {
        "id": "e5ItMQOC2FpR"
      },
      "outputs": [],
      "source": [
        "betting_provider_df"
      ]
    },
    {
      "cell_type": "markdown",
      "metadata": {
        "id": "CwLOclzjVzBz"
      },
      "source": [
        "### AGENT DATA"
      ]
    },
    {
      "cell_type": "code",
      "execution_count": null,
      "metadata": {},
      "outputs": [],
      "source": [
        "AGENT_TYPES = ['Independent Agent', 'Super Agent', 'Other Agent Type']\n",
        "\n",
        "# Function to generate an agent type randomly\n",
        "def generate_agent_type():\n",
        "    return random.choice(AGENT_TYPES)"
      ]
    },
    {
      "cell_type": "code",
      "execution_count": null,
      "metadata": {},
      "outputs": [],
      "source": [
        "def generate_commission_rate():\n",
        "    # Example: Generate a commission rate between 1% and 10%\n",
        "    return round(random.uniform(0.01, 0.10), 2)"
      ]
    },
    {
      "cell_type": "code",
      "execution_count": null,
      "metadata": {},
      "outputs": [],
      "source": [
        "\n",
        "def generate_agent_status():\n",
        "    AGENT_STATUSES = ['Active 95%', 'Inactive 5%', 'Other Agent Status']\n",
        "    return random.choice(AGENT_STATUSES)"
      ]
    },
    {
      "cell_type": "code",
      "execution_count": null,
      "metadata": {
        "id": "Q2HsLk4LERfY"
      },
      "outputs": [],
      "source": [
        "\n",
        "\n",
        "def generate_unique_agent_code(agent_codes):\n",
        "    while True:\n",
        "        agent_code = fake.random_int(min=1000, max=9999)\n",
        "        if agent_code not in agent_codes:\n",
        "            agent_codes.add(agent_code)\n",
        "            return f'SMA{agent_code}'\n",
        "\n",
        "\n",
        "# Define your generate_gender and generate_nigerian_address functions here\n",
        "\n",
        "# Filter the DataFrame to get users with RoleID = 2\n",
        "df_agent = df_user[df_user['RoleID'] == 2]\n",
        "\n",
        "agent_data = []\n",
        "agent_codes = set()\n",
        "\n",
        "for user_id in df_agent['UserID']:\n",
        "    agent_code = generate_unique_agent_code(agent_codes)\n",
        "    bvn = generate_unique_bvn(used_bvns)\n",
        "    gender = generate_gender()  # Use your generate_gender function here\n",
        "    dob = fake.date_of_birth(minimum_age=18, maximum_age=70)\n",
        "    address = generate_nigerian_address()  # Use your generate_nigerian_address function here\n",
        "    agent_data.append((agent_code, bvn, user_id, gender, address, dob))\n",
        "\n",
        "# Create a DataFrame from agent_data\n",
        "df_agent = pd.DataFrame(agent_data, columns=['AgentCode', 'BVN', 'UserID', 'Gender', 'Address', 'DateOfBirth'])\n",
        "\n"
      ]
    },
    {
      "cell_type": "code",
      "execution_count": null,
      "metadata": {
        "id": "E8z0pzTJHgyx"
      },
      "outputs": [],
      "source": [
        "df_agent"
      ]
    },
    {
      "cell_type": "markdown",
      "metadata": {
        "id": "UNkBjk7vWJGR"
      },
      "source": [
        "### AGENT SERVICE TABLE"
      ]
    },
    {
      "cell_type": "code",
      "execution_count": null,
      "metadata": {
        "id": "BBKn0GDaWP1n"
      },
      "outputs": [],
      "source": [
        "\n",
        "data = {\n",
        "    'ServiceID': [1, 2, 3, 4, 5, 6, 7, 8],\n",
        "    'ServiceName': [\n",
        "        'Cash Deposits and Withdrawals',\n",
        "        'Fund Transfers',\n",
        "        'Bill Payments',\n",
        "        'Customer Onboarding',\n",
        "        'Transaction Processing',\n",
        "        'Cash Management',\n",
        "        'Marketing and Sales Assistance',\n",
        "        'POS Operations'\n",
        "    ]\n",
        "}\n",
        "\n",
        "df_agent_services= pd.DataFrame(data)\n"
      ]
    },
    {
      "cell_type": "code",
      "execution_count": null,
      "metadata": {},
      "outputs": [],
      "source": [
        "\n",
        "data = {\n",
        "    'ShiftID': [1, 2, 3],\n",
        "    'Name': ['Morning Shift', 'Afternoon Shift', 'Evening Shift'],\n",
        "    'StartTime': ['08:00:00', '12:00:00', '16:00:00'],\n",
        "    'EndTime': ['12:00:00', '16:00:00', '20:00:00'],\n",
        "    'ModifiedDate': ['2023-10-30 08:00:00', '2023-10-30 12:00:00', '2023-10-30 16:00:00']\n",
        "}\n",
        "\n",
        "# Create the Shift DataFrame\n",
        "df_shift = pd.DataFrame(data)\n",
        "\n",
        "# Optionally, you can set the \"ShiftID\" as the index\n",
        "df_shift.set_index('ShiftID', inplace=True)\n",
        "\n",
        "# Display the DataFrame\n",
        "print(df_shift)\n"
      ]
    },
    {
      "cell_type": "markdown",
      "metadata": {
        "id": "U7z9Gy-k-xzd"
      },
      "source": [
        "##POS TERMINAL"
      ]
    },
    {
      "cell_type": "code",
      "execution_count": null,
      "metadata": {
        "id": "Oz4a2kYm-Pf1"
      },
      "outputs": [],
      "source": [
        "pos_terminal_data = {\n",
        "    'TerminalID': f'SharpMonie{range(1, 101)}',\n",
        "    'AgentID': df_agent['AgentID'],\n",
        "    'TerminalType': [random.choice(['Mobile', 'Fixed']) for _ in range(100)],\n",
        "}\n",
        "\n",
        "df_pos_terminal = pd.DataFrame(pos_terminal_data)\n"
      ]
    },
    {
      "cell_type": "markdown",
      "metadata": {
        "id": "wEM_xS9D_2YG"
      },
      "source": [
        "TRANSACTION TABLE"
      ]
    },
    {
      "cell_type": "code",
      "execution_count": null,
      "metadata": {
        "id": "XOb3zSYr-byF"
      },
      "outputs": [],
      "source": [
        "pos_transaction_data = {\n",
        "    'TransactionID': range(1, 101),\n",
        "    'TerminalID': df_pos_terminal['TerminalID'],\n",
        "    'Amount': [random.uniform(1, 50) for _ in range(100)],\n",
        "    'TransactionDate': [fake.date_this_year() for _ in range(100)],\n",
        "}\n",
        "\n",
        "df_pos_transaction = pd.DataFrame(pos_transaction_data)"
      ]
    },
    {
      "cell_type": "markdown",
      "metadata": {
        "id": "0BLZI0lC_k79"
      },
      "source": [
        "##AGENT & BUSINESS TABLE"
      ]
    },
    {
      "cell_type": "code",
      "execution_count": null,
      "metadata": {
        "id": "_ZTARH4B_kPn"
      },
      "outputs": [],
      "source": []
    },
    {
      "cell_type": "markdown",
      "metadata": {
        "id": "V_ZUUpXVN3_Q"
      },
      "source": [
        "### SAVE ALL DATAFRAME AS A CSV"
      ]
    },
    {
      "cell_type": "code",
      "execution_count": null,
      "metadata": {
        "id": "S-Q-K0IaQkIF"
      },
      "outputs": [],
      "source": [
        "df_userRole.to_csv('user_role.csv', index=False)\n",
        "\n",
        "df_user.to_csv('user.csv', index=False)\n",
        "\n",
        "device_tokens_df.to_csv('device_token.csv', index=False)\n",
        "\n",
        "session_data_df.to_csv('session.csv', index=False)\n",
        "\n",
        "audit_logs_df.to_csv('user_role.csv', index=False)\n",
        "\n",
        "df_customer.to_csv('customer.csv', index=False)\n",
        "\n",
        "geolocation_data_df.to_csv('geolocation.csv', index=False)\n",
        "\n",
        "wallet_df.to_csv('wallet.csv', index=False)\n",
        "\n",
        "wallet_balance_log.to_csv('wallet_log.csv', index=False)\n",
        "\n",
        "transaction_df.to_csv('transaction.csv', index=False)\n",
        "\n",
        "merchant_df.to_csv('merchant.csv', index=False)\n",
        "\n",
        "betting_provider_df.to_csv('betting_provider.csv', index=False)\n",
        "\n",
        "df_agent.to_csv('agent.csv', index=False)\n",
        "\n",
        "df_agent_services.to_csv('agent_service.csv', index=False)"
      ]
    },
    {
      "cell_type": "code",
      "execution_count": null,
      "metadata": {
        "id": "gHntf-nvPaUm"
      },
      "outputs": [],
      "source": []
    }
  ],
  "metadata": {
    "colab": {
      "provenance": []
    },
    "kernelspec": {
      "display_name": "Python 3",
      "name": "python3"
    },
    "language_info": {
      "codemirror_mode": {
        "name": "ipython",
        "version": 3
      },
      "file_extension": ".py",
      "mimetype": "text/x-python",
      "name": "python",
      "nbconvert_exporter": "python",
      "pygments_lexer": "ipython3",
      "version": "3.11.4"
    }
  },
  "nbformat": 4,
  "nbformat_minor": 0
}
